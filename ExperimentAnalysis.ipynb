{
 "cells": [
  {
   "cell_type": "code",
   "execution_count": 1,
   "id": "encouraging-dominican",
   "metadata": {
    "ExecuteTime": {
     "end_time": "2022-04-25T20:03:52.582203Z",
     "start_time": "2022-04-25T20:03:50.803566Z"
    }
   },
   "outputs": [],
   "source": [
    "from matplotlib import pyplot as plt\n",
    "import matplotlib.patches as mpatches\n",
    "from scipy.optimize import curve_fit\n",
    "from scipy.signal import savgol_filter\n",
    "from scipy.ndimage import gaussian_filter1d\n",
    "from scipy.sparse.linalg import spsolve\n",
    "from scipy import sparse\n",
    "from scipy.interpolate import interp1d\n",
    "import pandas as pd\n",
    "import warnings\n",
    "import socket\n",
    "import configparser\n",
    "import multiprocessing as mp\n",
    "from brian2 import *\n",
    "from tqdm.notebook import tqdm\n",
    "\n",
    "import pyoelectricity as pel"
   ]
  },
  {
   "cell_type": "code",
   "execution_count": 2,
   "id": "careful-boards",
   "metadata": {
    "ExecuteTime": {
     "end_time": "2022-04-25T20:03:52.587389Z",
     "start_time": "2022-04-25T20:03:52.583982Z"
    },
    "code_folding": []
   },
   "outputs": [],
   "source": [
    "save_plots = True\n",
    "# Flag for more plots and info\n",
    "verbose = True"
   ]
  },
  {
   "cell_type": "markdown",
   "id": "stretch-swaziland",
   "metadata": {},
   "source": [
    "# Experiment"
   ]
  },
  {
   "cell_type": "markdown",
   "id": "850a9546",
   "metadata": {},
   "source": [
    "## Parameters"
   ]
  },
  {
   "cell_type": "code",
   "execution_count": 3,
   "id": "3d58710d",
   "metadata": {},
   "outputs": [],
   "source": [
    "# The nerve is hanging in between electrodes.\n",
    "# We estimate the effective length to be\n",
    "electrode_distance = 6 * mm"
   ]
  },
  {
   "cell_type": "markdown",
   "id": "fifth-niagara",
   "metadata": {},
   "source": [
    "## Function definitions\n",
    "\n",
    "### Baseline removal and noise masking"
   ]
  },
  {
   "cell_type": "code",
   "execution_count": 4,
   "id": "august-november",
   "metadata": {
    "ExecuteTime": {
     "end_time": "2022-04-25T20:03:52.598685Z",
     "start_time": "2022-04-25T20:03:52.588659Z"
    },
    "code_folding": []
   },
   "outputs": [],
   "source": [
    "@check_units(U=volt, times=ms, t_pre=ms, t_post=ms)\n",
    "def make_Mask(U, times, t_pre, t_post):\n",
    "    \"\"\" Generate a boolean mask around the spikes\"\"\"\n",
    "    # To find the maximum we first apply smoothing\n",
    "    U_raw_smooth = savgol_filter(U, 101, 1, axis=1)\n",
    "    maxargs = np.int32(savgol_filter(np.nanargmax(U_raw_smooth, axis=1), 3, 1))\n",
    "\n",
    "    # Mask matrix is filled line by line\n",
    "    mask = np.ones_like(U, dtype=bool)\n",
    "    for i, mask_line in enumerate(mask):\n",
    "        i_t_pre = np.nanargmin(np.abs(times - times[maxargs[i]] + t_pre))\n",
    "        i_t_post = np.nanargmin(np.abs(times - times[maxargs[i]] - t_post))\n",
    "        mask_line[i_t_pre:i_t_post] = False\n",
    "\n",
    "    return mask\n",
    "\n",
    "# Fit the baseline\n",
    "@check_units(y=volt, result=volt)\n",
    "def baseline_als(y, lam, p, niter=10):\n",
    "    \"\"\" Fit baseline for a single trace.\n",
    "    Parameters: p for asymmetry and lam for smoothness\n",
    "    From: \"Asymmetric Least Squares Smoothing\" by P. Eilers and H. Boelens 2005\n",
    "    https://stackoverflow.com/questions/29156532/python-baseline-correction-library\n",
    "    \"\"\"\n",
    "    my_unit = y.get_best_unit()\n",
    "    y = y / my_unit\n",
    "    L = len(y)\n",
    "    D = sparse.diags([1, -2, 1], [0, -1, -2], shape=(L, L - 2))\n",
    "    w = np.ones(L)\n",
    "    for i in range(niter):\n",
    "        W = sparse.spdiags(w, 0, L, L)\n",
    "        Z = W + lam * D.dot(D.transpose())\n",
    "        z = spsolve(Z, w * y)\n",
    "        w = p * (y > z) + (1 - p) * (y < z)\n",
    "    return z * my_unit\n",
    "\n",
    "@check_units(U=volt, result=volt)\n",
    "def remove_Base_als(U):\n",
    "    \"\"\"Remove the baseline\"\"\"\n",
    "    U_base = np.full_like(U, 0*mV)\n",
    "    for i, U_lne in enumerate(U):\n",
    "        U_base[i] = baseline_als(U_lne, 9e12, 0.5)\n",
    "    return U - U_base"
   ]
  },
  {
   "cell_type": "markdown",
   "id": "electrical-accounting",
   "metadata": {},
   "source": [
    "### Spatiotemporal transformations"
   ]
  },
  {
   "cell_type": "code",
   "execution_count": 5,
   "id": "committed-duncan",
   "metadata": {
    "ExecuteTime": {
     "end_time": "2022-04-25T20:03:52.609983Z",
     "start_time": "2022-04-25T20:03:52.600220Z"
    },
    "code_folding": [
     1,
     42
    ],
    "run_control": {
     "marked": false
    }
   },
   "outputs": [],
   "source": [
    "@check_units(times_raw=ms, delays_raw=ms)\n",
    "def make_Rel(Data_raw, times_raw, delays_raw):\n",
    "    \"\"\" Transform to symmetric representation\"\"\"\n",
    "    # This function can be used to transorm voltage measurements or boolean masks (which do not have units)\n",
    "    # The respective units are extracted here and required below\n",
    "    try:\n",
    "        my_unit = Data_raw.get_best_unit()\n",
    "    except AttributeError:\n",
    "        my_unit = 1.0\n",
    "    \n",
    "    raw_dt = np.diff(times_raw)[0]\n",
    "    delay_step = np.diff(delays_raw)[0]  # Delay step [ms]\n",
    "    delay_step_i = int(\n",
    "        np.round(0.5 * delay_step / (times_raw[1] - times_raw[0])))  #\n",
    "\n",
    "    # Create empty Array for relative data\n",
    "    total_ix, total_iy = Data_raw.shape\n",
    "    rel_total_iy = (total_ix - 1) * delay_step_i + total_iy\n",
    "    Data_rel = np.full((total_ix, rel_total_iy), np.nan)*my_unit\n",
    "\n",
    "    # Fill relative data\n",
    "    for i, line_raw in enumerate(Data_raw):\n",
    "        Data_rel[i, (total_ix - i - 1) * delay_step_i:rel_total_iy -\n",
    "          i * delay_step_i] = line_raw\n",
    "\n",
    "    # Create time array\n",
    "    Tend = (np.max(times_raw) - np.min(times_raw)) / \\\n",
    "        len(times_raw) * Data_rel.shape[1]\n",
    "    new_times = np.linspace(0, Tend, Data_rel.shape[1])\n",
    "    \n",
    "    # Create time array\n",
    "    Tend = (max(times_raw)/ms - min(times_raw)/ms) / \\\n",
    "        len(times_raw) * Data_rel.shape[1] * ms\n",
    "    \n",
    "    new_times = np.linspace(0, Tend/ms, Data_rel.shape[1])*ms\n",
    "    \n",
    "    i_collision = nanargmax(nanmax(Data_rel, 1))\n",
    "    new_times -= new_times[nanargmax(Data_rel[i_collision])]\n",
    "\n",
    "    return Data_rel, new_times\n",
    "\n",
    "@check_units(U=mV, delays_raw=ms, result=ms)\n",
    "def get_rel_delays(U, delays_raw, debug_flag=False):\n",
    "    \"\"\"Find the center of the collision\"\"\"\n",
    "\n",
    "    def gaussian_fun(x, a, x0, dx, a0):\n",
    "        return a0 + a * np.exp(-0.5 * ((x - x0) / (dx))**2)\n",
    "\n",
    "    peaks_x = np.nanmax(U, 1)\n",
    "    ix_collision = np.argmax(peaks_x) # initial value\n",
    "    popt, pcov = curve_fit(gaussian_fun,\n",
    "                           delays_raw/ms,\n",
    "                           peaks_x/mV,\n",
    "                           p0=[2.5, delays_raw[ix_collision]/ms, 0.2, 3.0])\n",
    "    a = popt[0]*mV\n",
    "    x0 = popt[1]*ms\n",
    "    dx = popt[2]*ms\n",
    "    a0 = popt[3]*mV\n",
    "    delays_rel = delays_raw - x0\n",
    "\n",
    "    if debug_flag:\n",
    "        xs = np.linspace(np.min(delays_raw/ms), np.max(delays_raw/ms), 200)*ms\n",
    "        plt.figure(\"Find peak\")\n",
    "        plt.plot(xs/ms, gaussian_fun(xs, a, x0, dx, a0)/mV, alpha=0.5)\n",
    "        plt.axvline(popt[1])\n",
    "        plt.plot(delays_raw / ms, np.max(U, axis=1) / mV, \"+\")\n",
    "        \n",
    "    return delays_rel"
   ]
  },
  {
   "cell_type": "markdown",
   "id": "stainless-difference",
   "metadata": {},
   "source": [
    "### Calculation of the discharge"
   ]
  },
  {
   "cell_type": "code",
   "execution_count": 6,
   "id": "creative-control",
   "metadata": {
    "ExecuteTime": {
     "end_time": "2022-04-25T20:03:52.627930Z",
     "start_time": "2022-04-25T20:03:52.611199Z"
    },
    "code_folding": [],
    "run_control": {
     "marked": false
    }
   },
   "outputs": [],
   "source": [
    "@check_units(U=volt, times_raw=ms, delays=ms,positions=mm,result=mV*ms/mm**2)\n",
    "def calc_Psi_exp(U, times_raw, delays, positions, ddu_smooth=False, debug_flag=False):\n",
    "    \n",
    "    sym_U, sym_T = make_Rel(U, times_raw, delays)\n",
    "    sym_U = savgol_filter(sym_U/mV, 3, 1, axis=0)*mV\n",
    "    \n",
    "    m_dt = np.abs(np.diff(times_raw)[0])\n",
    "    m_ds = np.abs(np.diff(positions)[0])\n",
    "\n",
    "    dU = np.gradient(sym_U, axis=0)\n",
    "    ddU = np.gradient(dU, axis=0)\n",
    "    if ddu_smooth:\n",
    "        ddU = savgol_filter(ddU/mV, 3, 1, axis=0)*mV\n",
    "\n",
    "    sig_mask = make_Mask(\n",
    "        U, times_raw, t_pre=0.4*ms, t_post=1.0*ms)\n",
    "    sig_mask_rel, t_rel = make_Rel(sig_mask, times_raw, delays)\n",
    "\n",
    "    mskd_mV = np.ma.masked_where(sig_mask_rel, ddU/mV)\n",
    "    Psi_mskd_mV = np.sum(mskd_mV, axis=1)\n",
    "    Psi = np.array(Psi_mskd_mV)*mV*m_dt/m_ds**2\n",
    "    #assert Psi.has_same_dimensions(mV*ms/mm**2)\n",
    "\n",
    "    if debug_flag:\n",
    "        fig, axs = plt.subplots(1, 3, figsize=(14, 3))\n",
    "        axs[0].imshow(U/mV, aspect='auto', interpolation='none')\n",
    "        axs[1].imshow(mskd_mV, aspect='auto', interpolation='none')\n",
    "        axs[2].plot(Psi/(mV*ms/mm**2))\n",
    "    \n",
    "    return Psi"
   ]
  },
  {
   "cell_type": "markdown",
   "id": "naked-match",
   "metadata": {},
   "source": [
    "## Load data\n",
    "We load four recordings from 3 electrodes each."
   ]
  },
  {
   "cell_type": "code",
   "execution_count": 7,
   "id": "c6a5bbe2",
   "metadata": {
    "ExecuteTime": {
     "end_time": "2022-04-25T20:03:52.638559Z",
     "start_time": "2022-04-25T20:03:52.630181Z"
    }
   },
   "outputs": [
    {
     "name": "stdout",
     "output_type": "stream",
     "text": [
      "/mnt/c/Users/ms/Documents/data/17-08-15/\n"
     ]
    }
   ],
   "source": [
    "datapath = '/mnt/c/Users/ms/Documents/data/17-08-15/'\n",
    "print(datapath)"
   ]
  },
  {
   "cell_type": "code",
   "execution_count": 8,
   "id": "universal-being",
   "metadata": {
    "ExecuteTime": {
     "end_time": "2022-04-25T20:03:52.644033Z",
     "start_time": "2022-04-25T20:03:52.639800Z"
    },
    "code_folding": [
     0
    ]
   },
   "outputs": [],
   "source": [
    "def load_exp_data(i_files, channels):\n",
    "    data = {}\n",
    "    for i_file in i_files:\n",
    "        for channel in channels:\n",
    "            id_str = str(i_file) + channel\n",
    "            print(id_str, \":\", end=\"\")\n",
    "            # npz_file = np.load(\"/home/mo/data/17-08-15/ret%04i.npz\" % i_file)\n",
    "            npz_file = np.load(datapath+\"ret%04i.npz\" % i_file)\n",
    "\n",
    "            U_raw = savgol_filter(npz_file[channel], 51, 1, axis=1) * mV\n",
    "            times_raw = npz_file['T' + channel] * second\n",
    "            delays_raw = npz_file[\"delays\"] * ms\n",
    "            U = remove_Base_als(U_raw)\n",
    "            \n",
    "            print(U.shape, end=\".  \")\n",
    "\n",
    "            recording = {\n",
    "                \"id_str\": id_str,\n",
    "                \"U\": U,\n",
    "                \"U_raw\": U_raw,\n",
    "                \"times_raw\": times_raw,\n",
    "                \"delays_raw\": delays_raw,\n",
    "            }\n",
    "            data[id_str] = recording\n",
    "\n",
    "    return data"
   ]
  },
  {
   "cell_type": "code",
   "execution_count": 9,
   "id": "worldwide-fellowship",
   "metadata": {
    "ExecuteTime": {
     "end_time": "2022-04-25T20:04:33.099974Z",
     "start_time": "2022-04-25T20:03:52.645076Z"
    },
    "code_folding": [],
    "scrolled": true
   },
   "outputs": [
    {
     "name": "stdout",
     "output_type": "stream",
     "text": [
      "18C1 :(21, 10002).  18C2 :(21, 10002).  18C3 :(21, 10002).  19C1 :(21, 10002).  19C2 :(21, 10002).  19C3 :(21, 10002).  20C1 :(46, 10002).  20C2 :(46, 10002).  20C3 :(46, 10002).  "
     ]
    }
   ],
   "source": [
    "# Load data\n",
    "i_files=[18, 19, 20] #, 21]\n",
    "channels=[\"C1\", \"C2\", \"C3\"]\n",
    "data = load_exp_data(i_files, channels)"
   ]
  },
  {
   "cell_type": "code",
   "execution_count": 10,
   "id": "a34f2325",
   "metadata": {
    "scrolled": true
   },
   "outputs": [
    {
     "data": {
      "text/plain": [
       "dict_keys(['id_str', 'U', 'U_raw', 'times_raw', 'delays_raw'])"
      ]
     },
     "execution_count": 10,
     "metadata": {},
     "output_type": "execute_result"
    }
   ],
   "source": [
    "data['18C2'].keys()"
   ]
  },
  {
   "cell_type": "code",
   "execution_count": 11,
   "id": "676c70c3",
   "metadata": {
    "scrolled": true
   },
   "outputs": [
    {
     "name": "stdout",
     "output_type": "stream",
     "text": [
      "18\n",
      "           times_raw 10002       10. ms  step:         1. us  rate:  1. MHz\n",
      "          delays_raw    21        4. ms  step:       200. us  rate:  5. kHz\n",
      "19\n",
      "           times_raw 10002       10. ms  step:         1. us  rate:  1. MHz\n",
      "          delays_raw    21      4.54 ms  step:       227. us  rate:  4.41 kHz\n",
      "20\n",
      "           times_raw 10002       10. ms  step:         1. us  rate:  1. MHz\n",
      "          delays_raw    46       4.5 ms  step:       100. us  rate:  10. kHz\n"
     ]
    }
   ],
   "source": [
    "for i in i_files:\n",
    "    print(i)\n",
    "    d = data['%iC2'%i]\n",
    "    for qstr in[ \"times_raw\", \"delays_raw\" ]:\n",
    "        q = d[qstr]\n",
    "        q_rng = q[-1] - q[0]\n",
    "        print(\"%20s\"%qstr, \"%5i\"%len(q), \"%12s\"%q_rng.in_best_unit(2),# \"%12s\"%q[-1].in_best_unit(2),\n",
    "              ' step: ', \"%12s\"%(q[1]-q[0]).in_best_unit(2), ' rate: ', (1/(q[1]-q[0])).in_best_unit(2))"
   ]
  },
  {
   "cell_type": "code",
   "execution_count": 12,
   "id": "c08e6e70",
   "metadata": {
    "scrolled": true
   },
   "outputs": [
    {
     "name": "stdout",
     "output_type": "stream",
     "text": [
      "times_raw\n",
      "           times_raw 10002       10. ms  step:         1. us  rate:  1. MHz\n",
      "           times_raw 10002       10. ms  step:         1. us  rate:  1. MHz\n",
      "           times_raw 10002       10. ms  step:         1. us  rate:  1. MHz\n",
      "delays_raw\n",
      "          delays_raw    21        4. ms  step:       200. us  rate:  5. kHz\n",
      "          delays_raw    21      4.54 ms  step:       227. us  rate:  4.41 kHz\n",
      "          delays_raw    46       4.5 ms  step:       100. us  rate:  10. kHz\n"
     ]
    }
   ],
   "source": [
    "for qstr in[ \"times_raw\", \"delays_raw\" ]:\n",
    "    print(qstr)\n",
    "    for i in i_files:\n",
    "#        print(i)\n",
    "        d = data['%iC2'%i]\n",
    "        q = d[qstr]\n",
    "        q_rng = q[-1] - q[0]\n",
    "        print(\"%20s\"%qstr, \"%5i\"%len(q), \"%12s\"%q_rng.in_best_unit(2),\n",
    "              ' step: ', \"%12s\"%(q[1]-q[0]).in_best_unit(2), ' rate: ', (1/(q[1]-q[0])).in_best_unit(2))"
   ]
  },
  {
   "cell_type": "code",
   "execution_count": 13,
   "id": "fb24896d",
   "metadata": {},
   "outputs": [
    {
     "name": "stdout",
     "output_type": "stream",
     "text": [
      "-3.42  4.90\n",
      "-3.71  5.48\n",
      "-3.68  5.27\n"
     ]
    },
    {
     "data": {
      "image/png": "[encoded data removed]",
      "text/plain": [
       "<Figure size 2102.36x708.661 with 4 Axes>"
      ]
     },
     "metadata": {},
     "output_type": "display_data"
    }
   ],
   "source": [
    "with plt.style.context('plot_style.txt'):\n",
    "    cm_inch = 1/2.54 # 11.4 or 17.8\n",
    "    fig, axs = plt.subplots(1, 3, figsize=(17.8*cm_inch, 6*cm_inch), sharey='row')\n",
    "    # fig, axs = plt.subplots(1,3, figsize=(12, 4), sharex=True, sharey='row')\n",
    "    for i, i_file in enumerate([i_files[-1]]):\n",
    "        for j, channel in enumerate(channels):\n",
    "            dat = data[\"%i%s\"%(i_file, channel)]#['U']\n",
    "            extent = [dat['times_raw'].min()/ms,\n",
    "                      dat['times_raw'].max()/ms,\n",
    "                      dat['delays_raw'].max()/ms,\n",
    "                      dat['delays_raw'].min()/ms]\n",
    "            im = axs[j].imshow(dat['U']/mV,\n",
    "                               aspect='auto',\n",
    "                               interpolation='none',\n",
    "                               extent=extent,\n",
    "                               vmin=-3.71, vmax=5.48)\n",
    "            print('%5.2f %5.2f'%(np.min(dat['U']/mV), np.max(dat['U']/mV)))\n",
    "            axs[j].set_title(channel)\n",
    "    axs[0].set_ylabel('delay (ms)')\n",
    "    [ax.set_xlabel('time (ms)') for ax in axs]\n",
    "\n",
    "fig.colorbar(im, label='$V_e$ (mV)')\n",
    "plt.tight_layout()\n",
    "plt.savefig('SI-exp-raw.pdf')"
   ]
  },
  {
   "cell_type": "code",
   "execution_count": 14,
   "id": "7ceb90d9",
   "metadata": {},
   "outputs": [],
   "source": [
    "#e_dist = (0.5 * np.diff([0.4, 1.9, 3.6]*ms))*v_mean\n",
    "#e_dist.in_best_unit(2)"
   ]
  },
  {
   "cell_type": "markdown",
   "id": "consolidated-peninsula",
   "metadata": {},
   "source": [
    "## Calculate velocity"
   ]
  },
  {
   "cell_type": "markdown",
   "id": "accepted-product",
   "metadata": {
    "code_folding": []
   },
   "source": [
    "Recording sites are seperated by one earth electrode, the effective length between recording points is then 12mm. The velocity is calculated from the AP arrival time at different electrodes. There are four recording from 3 sites respectively. That makes two velocities for each direction and recording. When the Collision is occuring between the recording sites, than the velocity is somwhat corrupted, which gives a very large (possibly almost infinite) velocity."
   ]
  },
  {
   "cell_type": "code",
   "execution_count": 15,
   "id": "noble-institution",
   "metadata": {
    "ExecuteTime": {
     "end_time": "2022-04-25T20:04:33.108470Z",
     "start_time": "2022-04-25T20:04:33.101226Z"
    },
    "code_folding": [
     0
    ]
   },
   "outputs": [],
   "source": [
    "def calc_exp_velocity(data, i_files, channels, make_plots=False):\n",
    "    v_s = {}\n",
    "    \n",
    "    if make_plots:\n",
    "        fig, axs = plt.subplots(1, len(i_files), figsize=(14,4))\n",
    "        \n",
    "    for i, i_file in enumerate(np.array(i_files, dtype=str)):\n",
    "        # Get arrival times of the positive peak\n",
    "        for channel in channels:\n",
    "            id_str = str(i_file) + channel\n",
    "            u = savgol_filter(data[id_str][\"U\"], 101, 1)\n",
    "            t = data[id_str][\"times_raw\"]\n",
    "            data[id_str][\"arrival_times\"] = t[np.argmax(u, axis=1)]\n",
    "\n",
    "        # Calculate velocities\n",
    "        dist = 2*electrode_distance\n",
    "        v12 = dist / np.abs(data[i_file + \"C1\"][\"arrival_times\"] -\n",
    "                           data[i_file + \"C2\"][\"arrival_times\"])\n",
    "        v23 = dist / np.abs(data[i_file + \"C2\"][\"arrival_times\"] -\n",
    "                           data[i_file + \"C3\"][\"arrival_times\"])\n",
    "\n",
    "        # Check for correct units \n",
    "        for v in [v12, v23]:#, v13]:\n",
    "            assert v.has_same_dimensions(mm/ms)\n",
    "\n",
    "        # Only the first and last two values are stored (see figures)\n",
    "        v_s[i_file] = np.ravel([np.ravel([v[:2], v[-2:]]) for v in [v12, v23]]) \n",
    "\n",
    "        if make_plots:\n",
    "            axs[i].plot(data[id_str][\"delays_raw\"]/ms, v12/(mm/ms), label=\"v12\")\n",
    "            axs[i].plot(data[id_str][\"delays_raw\"]/ms, v23/(mm/ms), label=\"v23\")\n",
    "            axs[i].set_title(i_file)\n",
    "            axs[i].set_ylabel(\"$v_p$ (m/s)\")\n",
    "            axs[i].set_xlabel(\"delay (ms)\")\n",
    "            axs[i].set_ylim(10,30)\n",
    "            axs[i].legend()\n",
    "            \n",
    "    if make_plots:\n",
    "        plt.tight_layout()\n",
    "        \n",
    "    vs = pd.DataFrame(\n",
    "        v_s, index=[\"1>2\", \"1>2\", \"1<2\", \"1<2\", \"2>3\", \"2>3\", \"2<3\", \"2<3\"])\n",
    "    v_mean = vs.stack().mean()*mm/ms\n",
    "    return v_mean, vs"
   ]
  },
  {
   "cell_type": "code",
   "execution_count": 16,
   "id": "reported-compression",
   "metadata": {
    "ExecuteTime": {
     "end_time": "2022-04-25T20:04:34.053779Z",
     "start_time": "2022-04-25T20:04:33.110538Z"
    },
    "code_folding": [
     0
    ],
    "run_control": {
     "marked": false
    }
   },
   "outputs": [
    {
     "name": "stdout",
     "output_type": "stream",
     "text": [
      "overall velocity v_p:  14.5 +- 1.1 m/s\n"
     ]
    }
   ],
   "source": [
    "# Calculate all velocities\n",
    "v_mean, vs = calc_exp_velocity(data, i_files, channels, make_plots=True)\n",
    "pd.options.display.float_format = '{:,.1f}'.format\n",
    "#print(\"per recording:\")\n",
    "#print(vs.mean(0))\n",
    "print(\"overall velocity v_p:  %2.1f +- %2.1f m/s\" % (v_mean, vs.stack().std()))\n",
    "vs.plot();"
   ]
  },
  {
   "cell_type": "code",
   "execution_count": 17,
   "id": "afd535e2",
   "metadata": {},
   "outputs": [
    {
     "data": {
      "text/html": [
       "<div>\n",
       "<style scoped>\n",
       "    .dataframe tbody tr th:only-of-type {\n",
       "        vertical-align: middle;\n",
       "    }\n",
       "\n",
       "    .dataframe tbody tr th {\n",
       "        vertical-align: top;\n",
       "    }\n",
       "\n",
       "    .dataframe thead th {\n",
       "        text-align: right;\n",
       "    }\n",
       "</style>\n",
       "<table border=\"1\" class=\"dataframe\">\n",
       "  <thead>\n",
       "    <tr style=\"text-align: right;\">\n",
       "      <th></th>\n",
       "      <th>18</th>\n",
       "      <th>19</th>\n",
       "      <th>20</th>\n",
       "    </tr>\n",
       "  </thead>\n",
       "  <tbody>\n",
       "    <tr>\n",
       "      <th>1&gt;2</th>\n",
       "      <td>16.2</td>\n",
       "      <td>16.2</td>\n",
       "      <td>16.3</td>\n",
       "    </tr>\n",
       "    <tr>\n",
       "      <th>1&gt;2</th>\n",
       "      <td>15.0</td>\n",
       "      <td>15.2</td>\n",
       "      <td>16.2</td>\n",
       "    </tr>\n",
       "    <tr>\n",
       "      <th>1&lt;2</th>\n",
       "      <td>15.1</td>\n",
       "      <td>15.1</td>\n",
       "      <td>14.9</td>\n",
       "    </tr>\n",
       "    <tr>\n",
       "      <th>1&lt;2</th>\n",
       "      <td>15.0</td>\n",
       "      <td>15.1</td>\n",
       "      <td>14.9</td>\n",
       "    </tr>\n",
       "    <tr>\n",
       "      <th>2&gt;3</th>\n",
       "      <td>13.1</td>\n",
       "      <td>13.1</td>\n",
       "      <td>13.3</td>\n",
       "    </tr>\n",
       "    <tr>\n",
       "      <th>2&gt;3</th>\n",
       "      <td>13.2</td>\n",
       "      <td>13.1</td>\n",
       "      <td>13.4</td>\n",
       "    </tr>\n",
       "    <tr>\n",
       "      <th>2&lt;3</th>\n",
       "      <td>13.0</td>\n",
       "      <td>14.3</td>\n",
       "      <td>14.5</td>\n",
       "    </tr>\n",
       "    <tr>\n",
       "      <th>2&lt;3</th>\n",
       "      <td>13.1</td>\n",
       "      <td>14.6</td>\n",
       "      <td>14.8</td>\n",
       "    </tr>\n",
       "  </tbody>\n",
       "</table>\n",
       "</div>"
      ],
      "text/plain": [
       "      18   19   20\n",
       "1>2 16.2 16.2 16.3\n",
       "1>2 15.0 15.2 16.2\n",
       "1<2 15.1 15.1 14.9\n",
       "1<2 15.0 15.1 14.9\n",
       "2>3 13.1 13.1 13.3\n",
       "2>3 13.2 13.1 13.4\n",
       "2<3 13.0 14.3 14.5\n",
       "2<3 13.1 14.6 14.8"
      ]
     },
     "execution_count": 17,
     "metadata": {},
     "output_type": "execute_result"
    }
   ],
   "source": [
    "vs"
   ]
  },
  {
   "cell_type": "code",
   "execution_count": 18,
   "id": "9364631d",
   "metadata": {},
   "outputs": [
    {
     "name": "stdout",
     "output_type": "stream",
     "text": [
      "\\begin{tabular}{lrrr}\n",
      " & 18 & 19 & 20 \\\\\n",
      "1>2 & 16.150740 & 16.194332 & 16.348774 \\\\\n",
      "1>2 & 15.037594 & 15.151515 & 16.216216 \\\\\n",
      "1<2 & 15.094340 & 15.132409 & 14.888337 \\\\\n",
      "1<2 & 15.037594 & 15.075377 & 14.869888 \\\\\n",
      "2>3 & 13.114797 & 13.100480 & 13.259683 \\\\\n",
      "2>3 & 13.172338 & 13.100437 & 13.422834 \\\\\n",
      "2<3 & 12.958963 & 14.251781 & 14.492754 \\\\\n",
      "2<3 & 13.143483 & 14.616322 & 14.778325 \\\\\n",
      "\\end{tabular}\n",
      "\n"
     ]
    }
   ],
   "source": [
    "a = vs.style.to_latex()\n",
    "for i in a.split('\\n'):\n",
    "    print(i)"
   ]
  },
  {
   "cell_type": "code",
   "execution_count": 19,
   "id": "3e6cbd1c",
   "metadata": {},
   "outputs": [
    {
     "name": "stdout",
     "output_type": "stream",
     "text": [
      "orthodromic: 14.528297757992881 0.7082168547649633\n",
      "antidromic: 14.52247832021231 1.3833553410713368\n",
      "total: 14.525388039102594 1.098922209706359\n"
     ]
    }
   ],
   "source": [
    "ortho = vs.loc[['1<2', '2<3']]\n",
    "print('orthodromic:', np.ravel(ortho).mean(), np.ravel(ortho).std())\n",
    "\n",
    "anti = vs.loc[['1>2', '2>3']]\n",
    "print('antidromic:', np.ravel(anti).mean(), np.ravel(anti).std())\n",
    "\n",
    "allv = vs#.loc[['1>2', '2>3']]\n",
    "print('total:', np.ravel(allv).mean(), np.ravel(allv).std())"
   ]
  },
  {
   "cell_type": "code",
   "execution_count": 20,
   "id": "780a1df6",
   "metadata": {
    "ExecuteTime": {
     "end_time": "2022-04-25T20:04:34.058919Z",
     "start_time": "2022-04-25T20:04:34.055176Z"
    }
   },
   "outputs": [
    {
     "data": {
      "text/plain": [
       "'14.53 mm/ms'"
      ]
     },
     "execution_count": 20,
     "metadata": {},
     "output_type": "execute_result"
    }
   ],
   "source": [
    "v_mean.in_best_unit(2)"
   ]
  },
  {
   "cell_type": "markdown",
   "id": "disabled-medium",
   "metadata": {
    "heading_collapsed": true
   },
   "source": [
    "## Calculate PSI\n",
    "\n",
    "point of collision, relative distances and PSI"
   ]
  },
  {
   "cell_type": "code",
   "execution_count": 21,
   "id": "nutritional-married",
   "metadata": {
    "ExecuteTime": {
     "end_time": "2022-04-25T20:04:38.521207Z",
     "start_time": "2022-04-25T20:04:34.060050Z"
    },
    "code_folding": [],
    "hidden": true,
    "run_control": {
     "marked": false
    },
    "scrolled": false
   },
   "outputs": [],
   "source": [
    "for id_str, recording in data.items():\n",
    "    recording[\"delays_rel\"] = get_rel_delays(recording[\"U\"],\n",
    "                                             recording[\"delays_raw\"])\n",
    "    recording[\"positions\"] = 0.5 * v_mean * recording[\"delays_rel\"]\n",
    "    recording[\"Psi\"] = calc_Psi_exp(recording[\"U\"],\n",
    "                            recording[\"times_raw\"],\n",
    "                            recording[\"delays_rel\"],\n",
    "                            recording[\"positions\"],\n",
    "                            debug_flag=True,\n",
    "                            ddu_smooth=False)"
   ]
  },
  {
   "cell_type": "code",
   "execution_count": 22,
   "id": "grateful-maria",
   "metadata": {
    "ExecuteTime": {
     "end_time": "2022-04-25T20:04:38.527423Z",
     "start_time": "2022-04-25T20:04:38.522693Z"
    },
    "code_folding": [
     0
    ],
    "hidden": true,
    "run_control": {
     "marked": false
    }
   },
   "outputs": [],
   "source": [
    "# Full raw measurement and transformed view\n",
    "if verbose:\n",
    "    fig, axs = plt.subplots(1,2,figsize=(15,5))\n",
    "\n",
    "    id_str = '20C2'\n",
    "    recording = data[id_str]\n",
    "    extent = [\n",
    "            min(recording['times_raw'])/ms,\n",
    "            max(recording['times_raw'])/ms,\n",
    "            max(recording['delays_raw'])/ms,\n",
    "            min(recording['delays_raw'])/ms,\n",
    "    ]\n",
    "    axs[0].imshow(recording[\"U\"]/mV, aspect='auto', interpolation='none', extent=extent)\n",
    "\n",
    "    U_rel, times_rel = make_Rel(data[id_str][\"U\"], data[id_str][\"times_raw\"],\n",
    "                                data[id_str][\"delays_raw\"])\n",
    "    extent = [\n",
    "            min(times_rel)/ms,\n",
    "            max(times_rel)/ms,\n",
    "            max(recording['delays_rel'])/ms,\n",
    "            min(recording['delays_rel'])/ms,\n",
    "    ]\n",
    "    axs[1].imshow(U_rel/mV, aspect='auto', interpolation='none', extent=extent)\n",
    "    for ax in axs:\n",
    "        ax.set_ylabel(\"delay (ms)\")\n",
    "        ax.set_xlabel(\"time (ms)\")"
   ]
  },
  {
   "cell_type": "markdown",
   "id": "damaged-qualification",
   "metadata": {
    "heading_collapsed": true
   },
   "source": [
    "## Plot AP traces"
   ]
  },
  {
   "cell_type": "markdown",
   "id": "younger-trace",
   "metadata": {
    "hidden": true
   },
   "source": [
    "The raw experimental results. First the traces of $V_e$ are plotted for propagating and collisding APs."
   ]
  },
  {
   "cell_type": "code",
   "execution_count": 23,
   "id": "graphic-honolulu",
   "metadata": {
    "ExecuteTime": {
     "end_time": "2022-04-25T20:04:38.543864Z",
     "start_time": "2022-04-25T20:04:38.528476Z"
    },
    "code_folding": [
     0,
     12
    ],
    "hidden": true,
    "run_control": {
     "marked": false
    }
   },
   "outputs": [],
   "source": [
    "def plt_i_aligned(ax, t, u, n_smooth=41, **kwargs):\n",
    "    u_smooth = savgol_filter(u/mV, n_smooth, 1)*mV\n",
    "    i_peak = nanargmax(u_smooth)\n",
    "    t_plot = t - t[i_peak]\n",
    "    is_baseline = (-2*ms<t_plot)&(t_plot<-1*ms)\n",
    "    if sum(is_baseline)>3:\n",
    "        offset = mean(u_smooth[is_baseline])\n",
    "        u_smooth -= offset\n",
    "    assert u_smooth.has_same_dimensions(mV)\n",
    "    assert t_plot.has_same_dimensions(ms)\n",
    "    return ax.plot(t_plot / ms, u_smooth / mV, **kwargs)\n",
    "    \n",
    "def plot_exp_traces(axs, **kwargs):\n",
    "    for i_file in [18,19,20]:#,21]:#i_files[-1]:\n",
    "        for ax in axs:\n",
    "            ax.set_prop_cycle(None)\n",
    "        \n",
    "        id_str = f'{i_file}C%i'%1 # anterior (near head) \n",
    "        experiment = data[id_str]\n",
    "        U_rel, times_rel = make_Rel(experiment[\"U\"], experiment[\"times_raw\"],\n",
    "                                    experiment[\"delays_raw\"])\n",
    "        i_coll = np.argmin(np.abs(experiment['delays_rel']))\n",
    "        ln = plt_i_aligned(axs[0], times_rel, U_rel[-1], **kwargs)\n",
    "        plt_i_aligned(axs[1], times_rel, U_rel[i_coll], **kwargs)\n",
    "\n",
    "        id_str = f'{i_file}C%i'%2 # medial\n",
    "        experiment = data[id_str]\n",
    "        U_rel, times_rel = make_Rel(experiment[\"U\"], experiment[\"times_raw\"],\n",
    "                                    experiment[\"delays_raw\"])\n",
    "        i_coll = np.argmin(np.abs(experiment['delays_rel']))\n",
    "        ln = plt_i_aligned(axs[0], times_rel, U_rel[-1], **kwargs)\n",
    "        plt_i_aligned(axs[1], times_rel, U_rel[i_coll], **kwargs)\n",
    "\n",
    "        id_str = f'{i_file}C%i'%3 # posterior \n",
    "        experiment = data[id_str]\n",
    "        U_rel, times_rel = make_Rel(experiment[\"U\"], experiment[\"times_raw\"],\n",
    "                                    experiment[\"delays_raw\"])\n",
    "        i_coll = np.argmin(np.abs(experiment['delays_rel']))\n",
    "        ln = plt_i_aligned(axs[0], times_rel, U_rel[1], **kwargs)\n",
    "        plt_i_aligned(axs[1], times_rel, U_rel[i_coll], **kwargs)\n",
    "        \n",
    "    axs[0].set_ylabel(\"$V_e$ (mV)\")\n",
    "    axs[1].set_ylabel(\"$V_e$ (mV)\")\n",
    "    axs[1].set_xlabel(\"time (ms)\")\n",
    "    axs[0].set_xlim(-1, 3)\n",
    "    axs[1].set_xlim(-1, 3)\n",
    "    \n",
    "    axs[0].set_xlim(-.5, 1.5)\n",
    "    axs[1].set_xlim(-.5, 1.5)\n",
    "\n",
    "if verbose:\n",
    "    fig, axs = plt.subplots(1,2, figsize=(15, 4))\n",
    "    plot_exp_traces(axs, color='gray')"
   ]
  },
  {
   "cell_type": "markdown",
   "id": "d972ccc0",
   "metadata": {},
   "source": [
    "## Plot spatial profile"
   ]
  },
  {
   "cell_type": "markdown",
   "id": "continued-newfoundland",
   "metadata": {},
   "source": [
    "Then the maximal and minimal values are plotted as a funcxtion of the distance to the collision."
   ]
  },
  {
   "cell_type": "code",
   "execution_count": 24,
   "id": "banner-fabric",
   "metadata": {
    "ExecuteTime": {
     "end_time": "2022-04-25T20:04:38.908808Z",
     "start_time": "2022-04-25T20:04:38.545336Z"
    },
    "code_folding": [],
    "run_control": {
     "marked": false
    }
   },
   "outputs": [
    {
     "name": "stdout",
     "output_type": "stream",
     "text": [
      "18C2 &  10.2 mm\n",
      "19C2 &   9.9 mm\n",
      "20C2 &   8.7 mm\n",
      "Collision width experiment: 9.59 +- 0.63 mm\n"
     ]
    }
   ],
   "source": [
    "# Plot and calculation\n",
    "def plot_exp_spatial(axs, **kwargs):\n",
    "    grad_widths = []\n",
    "    #pos_fwhm = []\n",
    "    #prop_peaks = []\n",
    "    #coll_peaks = []\n",
    "    for id_str in data.keys():\n",
    "        positions_mm = data[id_str][\"positions\"] / mm\n",
    "        assert is_dimensionless(positions_mm)\n",
    "\n",
    "        U_min = data[id_str][\"U\"].min(1) / mV\n",
    "        assert is_dimensionless(U_min)\n",
    "        axs[0].plot(positions_mm, U_min, **kwargs)\n",
    "        axs[0].set_ylabel(\"Umin (mV)\")\n",
    "\n",
    "        U_max = data[id_str][\"U\"].max(1) / mV\n",
    "        assert is_dimensionless(U_max)\n",
    "        axs[1].plot(positions_mm, U_max, **kwargs)\n",
    "        axs[1].set_ylabel(\"Umax (mV)\")\n",
    "\n",
    "        Psi_tesla = data[id_str][\"Psi\"] / (mV*ms/mm**2)\n",
    "        assert is_dimensionless(Psi_tesla)\n",
    "        axs[2].plot(positions_mm, Psi_tesla, **kwargs)\n",
    "        axs[2].set_ylabel(\"Psi (T)\")\n",
    "        \n",
    "        if id_str.endswith(\"C2\"):\n",
    "            dU_min = np.gradient(U_min)\n",
    "            grad_widths.append(positions_mm[argmin(dU_min)] - positions_mm[argmax(dU_min)])\n",
    "            s_width = positions_mm[argmin(dU_min)] - positions_mm[argmax(dU_min)]\n",
    "            print(id_str, '& %5.1f mm'%s_width)\n",
    "            #prop_peaks.append([U_max[0]*mV, U_max[-1]*mV])\n",
    "            #coll_peaks.append(max(U_max)*mV)\n",
    "            \n",
    "        if 0:\n",
    "            plt.figure('off')\n",
    "            ln = plt.plot(positions_mm, U_max, 'o')\n",
    "            HD_pos = np.linspace(min(positions_mm), max(positions_mm), num=200) \n",
    "            HD_U_max_fun = interp1d(positions_mm, U_max, kind='cubic')\n",
    "            HD_U_max = HD_U_max_fun(HD_pos)\n",
    "            \n",
    "            half_max = (max(HD_U_max) + min(HD_U_max))/2\n",
    "            width_off = (HD_U_max-half_max)\n",
    "            \n",
    "            plt.plot(HD_pos, width_off, '--', color=ln[0].get_color())\n",
    "            side1 = (HD_pos>0)\n",
    "            p1 = HD_pos[side1][argmin(abs(width_off[side1]))]\n",
    "            side2 = (HD_pos<0)\n",
    "            p2 = HD_pos[side2][argmin(abs(width_off[side2]))]\n",
    "            \n",
    "            pos_fwhm.append(p1-p2)\n",
    "            \n",
    "            \n",
    "    #pos_fwhm = (array(pos_fwhm))*mm\n",
    "    #print(\"PositivePeakWidth: \",mean(pos_fwhm/2), std(pos_fwhm)/2)\n",
    "    \n",
    "    grad_widths = (array(grad_widths))*mm\n",
    "    \n",
    "    plt.tight_layout()\n",
    "    gradwidth_exp = mean(abs(grad_widths))\n",
    "    axs[0].axvline(gradwidth_exp/2/mm, ls=\"--\", color=\"grey\")\n",
    "    axs[0].axvline(-gradwidth_exp/2/mm, ls=\"--\", color=\"grey\")\n",
    "    return grad_widths#, array(prop_peaks/mV)*mV, array(prop_peaks/mV)*mV\n",
    "        \n",
    "# Gradient width analysis\n",
    "plt.figure(\"offs\")\n",
    "plt.clf()\n",
    "fig, axs = plt.subplots(1,3, figsize=(15,4), num=\"123\")\n",
    "collision_widths = plot_exp_spatial(axs)    \n",
    "collision_width_exp = mean(collision_widths)\n",
    "#prop_peak_exp = prop_peaks.mean()\n",
    "print(\"Collision width experiment: %1.2f +- %1.2f mm\"%(collision_width_exp/mm, std(collision_widths)/mm))\n",
    "#print(\"Prop peak amplitude experiment: %1.2f +- %1.2f mV\"%(prop_peak_exp/mV, std(prop_peaks/mV)))\n",
    "#collision_width_exp = 11.77 * mm"
   ]
  },
  {
   "cell_type": "markdown",
   "id": "5cd63470",
   "metadata": {},
   "source": [
    "## Fig 2: AP and peak profile (width of Collision)"
   ]
  },
  {
   "cell_type": "code",
   "execution_count": 25,
   "id": "46790eb4",
   "metadata": {
    "ExecuteTime": {
     "end_time": "2022-04-25T20:04:40.142600Z",
     "start_time": "2022-04-25T20:04:38.909959Z"
    },
    "code_folding": [
     20,
     38,
     87
    ],
    "run_control": {
     "marked": false
    },
    "scrolled": false
   },
   "outputs": [],
   "source": [
    "# Plots\n",
    "\n",
    "with plt.style.context('plot_style.txt'):\n",
    "    cm_inch = 1/2.54 # 11.4 or 17.8\n",
    "    fig, axs = plt.subplots(1, 2, figsize=(17.8*cm_inch, 5*cm_inch), gridspec_kw={'width_ratios':[0.6,0.4]})\n",
    "\n",
    "    id_str = \"20C2\"\n",
    "    U_rel, times_rel = make_Rel(data[id_str][\"U\"], data[id_str][\"times_raw\"],\n",
    "                                data[id_str][\"delays_raw\"])\n",
    "\n",
    "    i_coll = np.argmin(np.abs(data[id_str]['delays_rel']))\n",
    "\n",
    "    # find the maximal delay that is availible for both, posterior and anterior stimulation\n",
    "    d_min = min(data['20C2']['delays_rel'])\n",
    "    d_max = max(data['20C2']['delays_rel'])\n",
    "    d_both = min(abs(array([d_min/ms, d_max/ms]))*ms)\n",
    "    i_prop = np.argmin(np.abs(data[id_str]['delays_rel'] - d_both))\n",
    "    i_prop2 = np.argmin(np.abs(data[id_str]['delays_rel'] + d_both))\n",
    "\n",
    "    # Y Axis as position\n",
    "    extent = [\n",
    "        np.min(times_rel / ms),\n",
    "        np.max(times_rel / ms),\n",
    "        np.max(data[id_str]['positions']) / mm,\n",
    "        np.min(data[id_str]['positions']) / mm,\n",
    "    ]\n",
    "    axs[0].set_ylabel(\"position (mm)\")\n",
    "    axs[0].set_ylim(-14, 14)\n",
    "\n",
    "    im = axs[0].imshow(U_rel / mV, extent=extent, aspect=\"auto\", interpolation=\"none\")\n",
    "    #cbar = plt.colorbar(im, ax=axs[0], label=\"$V_e$ (mV)\", pad=0.0, fraction=0.4)#, location='top')\n",
    "    cbar = plt.colorbar(im, ax=axs[0], label=\"$V_e$ (mV)\", pad=0.01, fraction=0.3)#, location='top')\n",
    "\n",
    "    axs[0].set_xlabel(\"time (ms)\")\n",
    "    axs[0].set_xlim(-1.3, 1.3)\n",
    "\n",
    "    pos_fwhm = []\n",
    "    prop_peaks = []\n",
    "    coll_peaks = []\n",
    "    for id_str in data.keys():\n",
    "        positions_mm = data[id_str][\"positions\"] / mm\n",
    "        assert is_dimensionless(positions_mm)\n",
    "\n",
    "        U_max = data[id_str][\"U\"].max(1) / mV\n",
    "        assert is_dimensionless(U_max)\n",
    "\n",
    "        if id_str.endswith(\"C1\"):\n",
    "            ln = axs[1].plot(positions_mm, U_max, '1', color='black')\n",
    "        elif id_str.endswith(\"C2\"):              \n",
    "            ln = axs[1].plot(positions_mm, U_max, '+', color='black')\n",
    "        else:                                    \n",
    "            ln = axs[1].plot(positions_mm, U_max, '2', color='black')\n",
    "\n",
    "        HD_pos = np.linspace(min(positions_mm), max(positions_mm), num=200) \n",
    "        HD_U_max_fun = interp1d(positions_mm, U_max, kind='cubic')\n",
    "        HD_U_max = HD_U_max_fun(HD_pos)\n",
    "        axs[1].plot(HD_pos, HD_U_max, color=ln[0].get_color(), lw=0.5, alpha=0.5)\n",
    "\n",
    "\n",
    "        half_max = (max(HD_U_max) + min(HD_U_max))/2\n",
    "        width_off = (HD_U_max-half_max)\n",
    "        side1 = (HD_pos>0)\n",
    "        p1 = HD_pos[side1][argmin(abs(width_off[side1]))]\n",
    "        side2 = (HD_pos<0)\n",
    "        p2 = HD_pos[side2][argmin(abs(width_off[side2]))]\n",
    "\n",
    "        pos_fwhm.append((p1-p2)*mm)\n",
    "\n",
    "        prop_peaks.append([U_max[0]*mV, U_max[-1]*mV])\n",
    "        coll_peaks.append(max(U_max)*mV)\n",
    "\n",
    "    pos_fwhm = array(pos_fwhm/mm)*mm\n",
    "    prop_peaks= array(prop_peaks/mV)*mV\n",
    "    coll_peaks= array(coll_peaks/mV)*mV\n",
    "\n",
    "    line_patch1 = mpatches.mlines.Line2D([None], [None], color='black', ls=\"\", marker=\"1\", label='C1')\n",
    "    line_patch2 = mpatches.mlines.Line2D([None], [None], color='black', ls=\"\", marker=\"+\", label='C2')\n",
    "    line_patch3 = mpatches.mlines.Line2D([None], [None], color='black', ls=\"\", marker=\"2\", label='C3')\n",
    "    axs[1].legend(handles=[line_patch1, line_patch2, line_patch3])\n",
    "\n",
    "    axs[1].set_ylabel(\"peak $V_e$ (mV)\")\n",
    "    axs[1].set_xlabel(\"position (mm)\")\n",
    "    axs[1].set_xlim(-10,10)\n",
    "    \n",
    "    axs[0].spines.right.set_visible(True)\n",
    "    axs[0].spines.top.set_visible(True)\n",
    "\n",
    "    plt.tight_layout(w_pad=0)\n",
    "    for ax, l in zip(axs, ['C A B', 'D']):\n",
    "        X = ax.get_position().x0\n",
    "        Y = 0.87#ax.get_position().y1\n",
    "        #print(X, Y)\n",
    "        ax.annotate(l, fontsize=8,family = 'sans-serif', weight = 'bold',\n",
    "                    xycoords=\"subfigure fraction\", \n",
    "                    xy=(X-0.06, Y)) \n",
    "    if save_plots:\n",
    "        fig.savefig(\"Fig2-CD.svg\")\n",
    "        fig.savefig(\"Fig2-CD.pdf\")"
   ]
  },
  {
   "cell_type": "code",
   "execution_count": 26,
   "id": "98ef62f8",
   "metadata": {
    "ExecuteTime": {
     "end_time": "2022-04-25T20:04:40.149834Z",
     "start_time": "2022-04-25T20:04:40.143868Z"
    },
    "code_folding": [],
    "scrolled": true
   },
   "outputs": [
    {
     "name": "stdout",
     "output_type": "stream",
     "text": [
      "Propagation peak:  2.85 mV 0.23 mV\n",
      "  Collision peak:  5.23 mV 0.26 mV\n",
      "   Amplification:  1.84 +- 0.05\n",
      "           Width:  3.82 mm +- 0.47 mm\n"
     ]
    }
   ],
   "source": [
    "# Print numerical values\n",
    "# Propagation peak amplitude\n",
    "print(\"Propagation peak: \", prop_peaks.mean().in_unit(mV, 2), prop_peaks.std().in_unit(mV, 2)) # 2.8mV\n",
    "# Collision peak amplitude\n",
    "print(\"  Collision peak: \", coll_peaks.mean().in_unit(mV, 2), coll_peaks.std().in_unit(mV, 2)) #5.1mV\n",
    "\n",
    "# Consequent amplification\n",
    "amplification = coll_peaks/prop_peaks.mean(1)\n",
    "print(f\"   Amplification:  {amplification.mean():1.2f} +- {amplification.std():1.2f}\")\n",
    "\n",
    "# Width of the peak amplification around the collision\n",
    "print(f\"           Width:  {pos_fwhm.mean().in_unit(mm, 2)} +- {pos_fwhm.std().in_unit(mm, 2)}\")"
   ]
  },
  {
   "cell_type": "markdown",
   "id": "oriental-configuration",
   "metadata": {},
   "source": [
    "# Simulation"
   ]
  },
  {
   "cell_type": "code",
   "execution_count": 27,
   "id": "10c50566",
   "metadata": {},
   "outputs": [
    {
     "data": {
      "text/latex": [
       "$250.0\\,m^{-4}\\,kg^{-1}\\,s^{3}\\,A^{2}$"
      ],
      "text/plain": [
       "250. * metre ** -4 * kilogram ** -1 * second ** 3 * amp ** 2"
      ]
     },
     "execution_count": 27,
     "metadata": {},
     "output_type": "execute_result"
    }
   ],
   "source": [
    "1/(40 * ohm *cm**2)"
   ]
  },
  {
   "cell_type": "code",
   "execution_count": 28,
   "id": "ordinary-placement",
   "metadata": {
    "ExecuteTime": {
     "end_time": "2022-04-25T20:04:40.155076Z",
     "start_time": "2022-04-25T20:04:40.150980Z"
    }
   },
   "outputs": [],
   "source": [
    "# used in all models\n",
    "pde_integration_method = 'rk4'\n",
    "\n",
    "morpho_MGF = Cylinder(x=Quantity([0*cm, 10*cm]), diameter=80 * um, n=2001)"
   ]
  },
  {
   "cell_type": "markdown",
   "id": "objective-struggle",
   "metadata": {
    "heading_collapsed": true
   },
   "source": [
    "## Function definitions"
   ]
  },
  {
   "cell_type": "code",
   "execution_count": 29,
   "id": "alert-wisdom",
   "metadata": {
    "ExecuteTime": {
     "end_time": "2022-05-07T17:05:15.435106Z",
     "start_time": "2022-05-07T17:05:15.426237Z"
    },
    "code_folding": [
     0
    ],
    "hidden": true,
    "run_control": {
     "marked": false
    }
   },
   "outputs": [],
   "source": [
    "def calculate_Ve_Collision(M,\n",
    "                           t_start=0 * ms,\n",
    "                           t_stop=28 * ms,\n",
    "                           el_geometry = 'EL',\n",
    "                           electrode_distance = np.nan*mm,\n",
    "                           electrode_radius=0.4*mm,\n",
    "                           electrode_separation = electrode_distance,\n",
    "                           prop_peak_set=prop_peaks.mean()\n",
    "                          ):\n",
    "    \"\"\"Calculates Ve at one side of the collision and returns mirrored (len=2*Ne) x, t, V_e\"\"\"\n",
    "    \n",
    "    # Anti Aliasing the target positions with respect to the source\n",
    "    x_source = M.source.morphology.x\n",
    "    ix_start = argmin(abs(x_source-1*cm))\n",
    "    ix_stop = x_source.shape[0]//2\n",
    "    #x_target = x_source[ix_start:ix_stop+1:10]\n",
    "    x_target = x_source[ix_start:ix_stop+1]\n",
    "    center_source = (x_source.max()+x_source.min())/2\n",
    "    assert x_target.max()==center_source\n",
    "    \n",
    "    # Define positions at which V_e is calculated\n",
    "    target = NeuronGroup(x_target.shape[0],\n",
    "                         model=''' x : meter\n",
    "                                   y : meter\n",
    "                                   z : meter''')\n",
    "\n",
    "    target.x = x_target#np.linspace(1, 5, Ne) * cm\n",
    "    target.y = electrode_distance\n",
    "    target.z = 0 * mm\n",
    "\n",
    "    # Run the V_e calculation\n",
    "    t_es, V_es = pel.calculate_V_e_Parallel(M,\n",
    "                                            target,\n",
    "                                            t_start=t_start,\n",
    "                                            t_stop=t_stop,\n",
    "                                            el_geometry=el_geometry,\n",
    "                                            electrode_radius=electrode_radius,\n",
    "                                            electrode_separation=electrode_separation)\n",
    "\n",
    "    # Save numerical efford by mirroring Ve\n",
    "    # Extracellular potential is calculated only at one side of the collision\n",
    "    # This mirrors the result to provide the full image\n",
    "    V_es_full = np.vstack([V_es / mV, V_es[-2::-1, :] / mV]) * mV\n",
    "    \n",
    "    if prop_peak_set is None:\n",
    "        scaling_f = 1.0\n",
    "    else:\n",
    "        #Scale to given peak of propagating AP\n",
    "        max_vals = V_es.max(axis=1)\n",
    "        prop_peak = max_vals[len(max_vals) // 2]\n",
    "        scaling_f = prop_peak_set / prop_peak\n",
    "        print(f'raw propagation Peak: {prop_peak/mV:5.1f}mV, now scaled by factor: {scaling_f:4.2f}')\n",
    "        V_es_full = V_es_full * scaling_f\n",
    "\n",
    "    # The positions at which V_e is calculated are also mirrored\n",
    "    target_xs = hstack([\n",
    "        target.x / mm, 2 * target.x[-1] / mm - target.x[-2::-1] / mm\n",
    "    ]) * mm - max(target.x)\n",
    "\n",
    "    return target_xs, t_es, V_es_full, scaling_f"
   ]
  },
  {
   "cell_type": "code",
   "execution_count": 30,
   "id": "vertical-compilation",
   "metadata": {
    "ExecuteTime": {
     "end_time": "2022-05-07T18:23:10.143346Z",
     "start_time": "2022-05-07T18:23:10.126010Z"
    },
    "code_folding": [
     3,
     17,
     54,
     80
    ],
    "hidden": true,
    "run_control": {
     "marked": false
    }
   },
   "outputs": [],
   "source": [
    "# Functions that tweak the parameters\n",
    "\n",
    "# Calculate the Width of the Simulation\n",
    "def get_Width_Simulation(xs_C, t_C, Ve_C):\n",
    "    U_min = Ve_C.min(axis=1)\n",
    "    i_center = argmin(abs(xs_C))\n",
    "    U_midline = (U_min[i_center] + U_min[i_center//2])/2\n",
    "    midline_deviation = abs(U_min - U_midline)\n",
    "    \n",
    "    ix1 = argmin(midline_deviation[:i_center])\n",
    "    x1 = xs_C[:i_center][ix1]\n",
    "    ix2 = argmin(midline_deviation[i_center:])\n",
    "    x2 = xs_C[i_center:][ix2]\n",
    "    \n",
    "    return x2-x1\n",
    "\n",
    "# Adjust capacity in orter to get the right velocity\n",
    "def fit_vp_via_cm(velocity_set,\n",
    "                  make_model,\n",
    "                  morpho,\n",
    "                  model_kws,\n",
    "                  exponent=1.0,\n",
    "                  max_percentual_deviation=0.9,\n",
    "                  max_iterations=30,\n",
    "                  **kwargs):\n",
    "    \n",
    "    other_model_kws = model_kws.copy()\n",
    "    Cm_val = other_model_kws.pop('Cm')\n",
    "\n",
    "    for ii in range(max_iterations):\n",
    "        neuron = make_model(morpho=morpho, Cm=Cm_val, **other_model_kws)\n",
    "        Monitor = pel.run_cable(neuron, report=None, **kwargs)\n",
    "        v_p, _ = pel.get_velocity(Monitor, make_plots=False)\n",
    "        percentual_deviation = np.abs(v_p / velocity_set - 1) * 100.0\n",
    "        del Monitor\n",
    "\n",
    "        if percentual_deviation < max_percentual_deviation:\n",
    "            model_kws['Cm'] = Cm_val\n",
    "            print(\n",
    "                f'Cm={Cm_val/(msiemens/meter**2):6.3f} mF/m^2  v_set={velocity_set/mm*ms:5.2f} m/s',\n",
    "                f'  v_is = {v_p/mm*ms:5.3f} m/s  Deviation:{percentual_deviation:5.2f} %')\n",
    "            break\n",
    "        else:\n",
    "            Cm_val_next = Cm_val * (v_p / velocity_set) ** exponent\n",
    "            print(\n",
    "                f'Cm={Cm_val/(msiemens/meter**2):6.3f} mF/m^2  v_set={velocity_set/mm*ms:5.2f} m/s',\n",
    "                f'  v_is = {v_p/mm*ms:5.3f} m/s  Deviation:{percentual_deviation:5.2f} %',\n",
    "                f'   next Cm : {Cm_val_next/(msiemens/meter**2):6.3f}')\n",
    "            Cm_val = Cm_val_next \n",
    "    else:\n",
    "        warnings.warn(f\"Optimal Cm not found !! (last Cm = {Cm_val/(msiemens/meter**2):6.3f})\")\n",
    "    return Cm_val\n",
    "\n",
    "# This is not explicitly used \n",
    "def fit_v_via_gstar(make_neuron, gstar_initial):\n",
    "    for ii in range(10):\n",
    "        #Tasaki_neuron = make_Tasaki_neuron(morpho_Squid, gstar=gstar_initial)\n",
    "        Tasaki_neuron = make_neuron(morpho=morpho_MGF, gstar=gstar_initial)\n",
    "        Monitor_Tasaki = run_cable(Tasaki_neuron, report=None)\n",
    "        v_tasaki = get_velocity(Monitor_Tasaki, make_plots=False)\n",
    "        #gstar_old = Tasaki_neuron.namespace['gstar']\n",
    "        percentual_deviation = np.abs(v_tasaki / v_HH - 1) * 100.0\n",
    "        del Monitor_Tasaki\n",
    "\n",
    "        print(\n",
    "            f'gstar={gstar_initial:6.1f}  v_HH={v_HH/mm*ms:2.2f} m/s' +\n",
    "            f'v_tasaki = {v_tasaki/mm*ms:2.2f} m/s  Deviation:{percentual_deviation:5.2f} %'\n",
    "        )\n",
    "\n",
    "        if percentual_deviation < 0.1:\n",
    "            gstar_optimal = gstar_initial\n",
    "            print(\"Converged at g_star = \", gstar_optimal)\n",
    "            break\n",
    "        else:\n",
    "            gstar_initial = (v_HH / v_tasaki)**2 * gstar_initial\n",
    "    else:\n",
    "        warnings.warn(\"Optimal g_star not found !!\")\n",
    "    return gstar_optimal\n",
    "\n",
    "# Iteratively fit ri and cm\n",
    "def fit_Ri_Cm(make_model, model_kws, exponent=1):\n",
    "    for iteration in range(10):\n",
    "        for d in model_kws:\n",
    "            try:\n",
    "                print(' - ', d, model_kws[d].in_best_unit(3)) \n",
    "            except AttributeError:\n",
    "                print(' - ', d, model_kws[d])\n",
    "        \n",
    "        model_kws['Cm'] = fit_vp_via_cm(velocity_set=v_mean,\n",
    "                                        morpho=morpho_MGF,\n",
    "                                        make_model=make_model,\n",
    "                                        model_kws=model_kws,\n",
    "                                        exponent=exponent,\n",
    "                                        defaultclock_dt=0.001*ms)\n",
    "        print(\"Velocity ok at \", model_kws)\n",
    "\n",
    "        This_MGF = make_model(morpho=morpho_MGF, **model_kws)\n",
    "        M_collision = pel.run_cable(This_MGF,\n",
    "                               Collide=True,\n",
    "                               report=None,\n",
    "                               defaultclock_dt=0.001 * ms)\n",
    "\n",
    "        xs_TC, t_TC, Ve_TC, _ = calculate_Ve_Collision(M_collision)#,\n",
    "                                                    #t_start=0.3 * ms)\n",
    "\n",
    "        f_TC = collision_width_exp / get_Width_Simulation(xs_TC, t_TC, Ve_TC)\n",
    "\n",
    "        print(\"Width mismath:\", 1-f_TC)\n",
    "        del M_collision, xs_TC, t_TC, Ve_TC\n",
    "\n",
    "        if abs(f_TC - 1) < 0.03:\n",
    "            print('OK.')\n",
    "            for d in model_kws:\n",
    "                try:\n",
    "                    print(' - ', d, model_kws[d].in_best_unit(3)) \n",
    "                except AttributeError:\n",
    "                    print(' - ', d, model_kws[d])\n",
    "            return model_kws\n",
    "        else:\n",
    "            model_kws['Ri'] = This_MGF.Ri / f_TC**2\n",
    "            model_kws['Cm'] = This_MGF.Cm[0] * f_TC"
   ]
  },
  {
   "cell_type": "markdown",
   "id": "quick-sullivan",
   "metadata": {},
   "source": [
    "## Perform fit"
   ]
  },
  {
   "cell_type": "code",
   "execution_count": 31,
   "id": "retained-guard",
   "metadata": {
    "ExecuteTime": {
     "end_time": "2022-04-25T20:08:40.870961Z",
     "start_time": "2022-04-25T20:08:40.867913Z"
    },
    "code_folding": []
   },
   "outputs": [],
   "source": [
    "general_collision_kws = {\n",
    "    'Collide': True,\n",
    "    'report': None,\n",
    "    'record_dt': 0.001 * ms,\n",
    "    'defaultclock_dt': 0.0001 * ms,\n",
    "    'I_stimulation':20. * uamp,\n",
    "}\n",
    "\n",
    "do_fit = True"
   ]
  },
  {
   "cell_type": "markdown",
   "id": "honest-simulation",
   "metadata": {
    "heading_collapsed": true
   },
   "source": [
    "### Tasaki 30"
   ]
  },
  {
   "cell_type": "code",
   "execution_count": 32,
   "id": "still-stereo",
   "metadata": {
    "ExecuteTime": {
     "end_time": "2022-05-07T19:15:23.599717Z",
     "start_time": "2022-05-07T19:14:14.927187Z"
    },
    "code_folding": [],
    "hidden": true,
    "run_control": {
     "marked": false
    }
   },
   "outputs": [
    {
     "name": "stdout",
     "output_type": "stream",
     "text": [
      " -  gstar 30. m^-4 kg^-1 s^3 A^2\n",
      " -  Ri 0.2 m^3 kg s^-3 A^-2\n",
      " -  Cm 0.003 m^-4 kg^-1 s^4 A^2\n",
      "Theory:     14.90m/s,  1.826mm\n",
      "Simulation: 14.52m/s,  8.446mm\n",
      "Cm= 2.600 mF/m^2  v_set=14.53 m/s   v_is = 14.516 m/s  Deviation: 0.07 %\n",
      "Velocity ok at  {'gstar': 30. * siemens / (meter ** 2), 'Ri': 0.2 * ohm * meter, 'Cm': 0.0026 * farad / (meter ** 2)}\n"
     ]
    },
    {
     "data": {
      "application/vnd.jupyter.widget-view+json": {
       "model_id": "a62d950c76274fffa80a395eddfc91c2",
       "version_major": 2,
       "version_minor": 0
      },
      "text/plain": [
       "  0%|          | 0/801 [00:00<?, ?it/s]"
      ]
     },
     "metadata": {},
     "output_type": "display_data"
    },
    {
     "name": "stdout",
     "output_type": "stream",
     "text": [
      "raw propagation Peak:   3.3mV, now scaled by factor: 0.87\n",
      "Width mismath: 0.020776152982483476\n",
      "OK.\n",
      " -  gstar 30. S/(m^2)\n",
      " -  Ri 0.2 ohm m\n",
      " -  Cm 0.003 F/(m^2)\n"
     ]
    }
   ],
   "source": [
    "# Tasaki model\n",
    "\n",
    "Tasaki_kws = {\n",
    "    'gstar': 30.0 * siemens / metre ** 2,\n",
    "    'Ri': 20 * ohm * cmetre,\n",
    "    'Cm': 0.26 * ufarad / cmetre ** 2}\n",
    "\n",
    "if do_fit:\n",
    "    Tasaki_kws = fit_Ri_Cm(pel.make_tasaki_neuron, Tasaki_kws)\n",
    "\n",
    "# Run final Tasaki model\n",
    "Tasaki_MGF = pel.make_tasaki_neuron(morpho=morpho_MGF, **Tasaki_kws)\n",
    "M_Tasaki_collision = pel.run_cable(Tasaki_MGF, **general_collision_kws)"
   ]
  },
  {
   "cell_type": "code",
   "execution_count": 33,
   "id": "stock-mouse",
   "metadata": {
    "ExecuteTime": {
     "end_time": "2022-05-07T19:15:59.762168Z",
     "start_time": "2022-05-07T19:15:52.019752Z"
    },
    "code_folding": [],
    "hidden": true,
    "run_control": {
     "marked": false
    }
   },
   "outputs": [
    {
     "name": "stdout",
     "output_type": "stream",
     "text": [
      "Theory:     14.90m/s,  1.826mm\n",
      "Simulation: 14.62m/s,  2.049mm\n"
     ]
    }
   ],
   "source": [
    "v_theo, lamb_theo = pel.get_tasaki_v_lambdastar(Tasaki_MGF)\n",
    "v_sim, lambda_sim = pel.get_velocity(M_Tasaki_collision)\n",
    "M_Tasaki_collision.namespace['v_sim'] = v_sim"
   ]
  },
  {
   "cell_type": "markdown",
   "id": "fe981ff6",
   "metadata": {
    "heading_collapsed": true
   },
   "source": [
    "### Tasaki 450"
   ]
  },
  {
   "cell_type": "code",
   "execution_count": 34,
   "id": "ec4190a2",
   "metadata": {
    "ExecuteTime": {
     "end_time": "2022-05-07T17:29:31.109469Z",
     "start_time": "2022-05-07T17:28:46.478497Z"
    },
    "code_folding": [],
    "hidden": true,
    "run_control": {
     "marked": false
    }
   },
   "outputs": [
    {
     "name": "stdout",
     "output_type": "stream",
     "text": [
      " -  gstar 450. S/(m^2)\n",
      " -  Ri 0.013 ohm m\n",
      " -  Cm 0.04 F/(m^2)\n",
      "Theory:     14.88m/s,  1.849mm\n",
      "Simulation: 14.53m/s,  8.946mm\n",
      "Cm=39.540 mF/m^2  v_set=14.53 m/s   v_is = 14.533 m/s  Deviation: 0.05 %\n",
      "Velocity ok at  {'gstar': 450. * siemens / (meter ** 2), 'Ri': 0.013 * ohm * meter, 'Cm': 0.03954 * farad / (meter ** 2)}\n"
     ]
    },
    {
     "data": {
      "application/vnd.jupyter.widget-view+json": {
       "model_id": "83afe54608a14281ae7ba358bbcd621d",
       "version_major": 2,
       "version_minor": 0
      },
      "text/plain": [
       "  0%|          | 0/801 [00:00<?, ?it/s]"
      ]
     },
     "metadata": {},
     "output_type": "display_data"
    },
    {
     "name": "stdout",
     "output_type": "stream",
     "text": [
      "raw propagation Peak:  49.9mV, now scaled by factor: 0.06\n",
      "Width mismath: 0.020776152982483476\n",
      "OK.\n",
      " -  gstar 450. S/(m^2)\n",
      " -  Ri 0.013 ohm m\n",
      " -  Cm 0.04 F/(m^2)\n"
     ]
    }
   ],
   "source": [
    "# Tasaki model\n",
    "Tasaki450_kws = {\n",
    "    'gstar': 450 * siemens / meter**2,\n",
    "    'Ri': 1.3 * ohm * cm,\n",
    "    'Cm': 39.54e-3 * farad / meter**2\n",
    "}\n",
    "\n",
    "if do_fit:\n",
    "    Tasaki450_kws = fit_Ri_Cm(pel.make_tasaki_neuron, Tasaki450_kws)\n",
    "\n",
    "# Run final Tasaki model\n",
    "Tasaki450_MGF = pel.make_tasaki_neuron(morpho=morpho_MGF, **Tasaki450_kws)\n",
    "M_Tasaki450_collision = pel.run_cable(Tasaki450_MGF, **general_collision_kws)"
   ]
  },
  {
   "cell_type": "code",
   "execution_count": 35,
   "id": "60cdb61a",
   "metadata": {
    "ExecuteTime": {
     "end_time": "2022-05-07T17:29:41.541102Z",
     "start_time": "2022-05-07T17:29:38.056751Z"
    },
    "code_folding": [],
    "hidden": true,
    "run_control": {
     "marked": false
    }
   },
   "outputs": [
    {
     "name": "stdout",
     "output_type": "stream",
     "text": [
      "Theory:     14.88m/s,  1.849mm\n",
      "Simulation: 14.62m/s,  2.049mm\n"
     ]
    }
   ],
   "source": [
    "v_sim, la = pel.get_velocity(M_Tasaki450_collision)#, x_start=2 * cm, x_stop=4 * cm)"
   ]
  },
  {
   "cell_type": "markdown",
   "id": "ecff06a4",
   "metadata": {},
   "source": [
    "### Repolarizing"
   ]
  },
  {
   "cell_type": "code",
   "execution_count": 36,
   "id": "2adc041a",
   "metadata": {
    "ExecuteTime": {
     "end_time": "2022-05-07T17:54:06.857133Z",
     "start_time": "2022-05-07T17:52:54.516289Z"
    },
    "code_folding": []
   },
   "outputs": [
    {
     "name": "stdout",
     "output_type": "stream",
     "text": [
      " -  gstar 30. S/(m^2)\n",
      " -  Ri 0.378 ohm m\n",
      " -  Cm 0.002 F/(m^2)\n",
      " -  trelax 0.5 ms\n",
      "Theory:     15.00m/s,  1.328mm\n",
      "Simulation: 14.63m/s,  12.369mm\n",
      "Cm= 1.877 mF/m^2  v_set=14.53 m/s   v_is = 14.626 m/s  Deviation: 0.69 %\n",
      "Velocity ok at  {'gstar': 30. * siemens / (meter ** 2), 'Ri': 0.37829549 * ohm * meter, 'Cm': 0.00187738 * farad / (meter ** 2), 'trelax': 0.5 * msecond}\n"
     ]
    },
    {
     "data": {
      "application/vnd.jupyter.widget-view+json": {
       "model_id": "495fdb9b483a4c6bbef6a2e4e84ee81c",
       "version_major": 2,
       "version_minor": 0
      },
      "text/plain": [
       "  0%|          | 0/801 [00:00<?, ?it/s]"
      ]
     },
     "metadata": {},
     "output_type": "display_data"
    },
    {
     "name": "stdout",
     "output_type": "stream",
     "text": [
      "raw propagation Peak:   2.2mV, now scaled by factor: 1.30\n",
      "Width mismath: 0.020776152982483476\n",
      "OK.\n",
      " -  gstar 30. S/(m^2)\n",
      " -  Ri 0.378 ohm m\n",
      " -  Cm 0.002 F/(m^2)\n",
      " -  trelax 0.5 ms\n"
     ]
    }
   ],
   "source": [
    "Repol_kws = {\n",
    "    'gstar': 30. * siemens / (meter ** 2),\n",
    "    'Ri': 0.37829549 * ohm * meter,\n",
    "    'Cm': 0.00187738 * farad / (meter ** 2),\n",
    "    'trelax': 0.5*ms\n",
    "}\n",
    "\n",
    "if do_fit:\n",
    "    Repol_kws = fit_Ri_Cm(pel.make_repolarizing_neuron, Repol_kws)\n",
    "\n",
    "Repol_MGF = pel.make_repolarizing_neuron(morpho=morpho_MGF, **Repol_kws)\n",
    "M_Repol_collision = pel.run_cable(Repol_MGF, **general_collision_kws)"
   ]
  },
  {
   "cell_type": "code",
   "execution_count": 37,
   "id": "4eeaa042",
   "metadata": {
    "ExecuteTime": {
     "end_time": "2022-05-07T17:58:56.095244Z",
     "start_time": "2022-05-07T17:58:15.081747Z"
    },
    "code_folding": []
   },
   "outputs": [
    {
     "name": "stdout",
     "output_type": "stream",
     "text": [
      " -  gstar 30. S/(m^2)\n",
      " -  Ri 0.45 ohm m\n",
      " -  Cm 0.002 F/(m^2)\n",
      " -  trelax 250. us\n",
      "Theory:     15.18m/s,  1.217mm\n",
      "Simulation: 14.52m/s,  9.370mm\n",
      "Cm= 1.700 mF/m^2  v_set=14.53 m/s   v_is = 14.520 m/s  Deviation: 0.04 %\n",
      "Velocity ok at  {'gstar': 30. * siemens / (meter ** 2), 'Ri': 0.4504 * ohm * meter, 'Cm': 0.0017 * farad / (meter ** 2), 'trelax': 250. * usecond}\n"
     ]
    },
    {
     "data": {
      "application/vnd.jupyter.widget-view+json": {
       "model_id": "386b1a71ebe3497eabd257f1f8a6c371",
       "version_major": 2,
       "version_minor": 0
      },
      "text/plain": [
       "  0%|          | 0/801 [00:00<?, ?it/s]"
      ]
     },
     "metadata": {},
     "output_type": "display_data"
    },
    {
     "name": "stdout",
     "output_type": "stream",
     "text": [
      "raw propagation Peak:   1.9mV, now scaled by factor: 1.54\n",
      "Width mismath: -0.010146705344384221\n",
      "OK.\n",
      " -  gstar 30. S/(m^2)\n",
      " -  Ri 0.45 ohm m\n",
      " -  Cm 0.002 F/(m^2)\n",
      " -  trelax 250. us\n"
     ]
    }
   ],
   "source": [
    "Repol_kws_025 = {\n",
    "    'gstar': 30. * siemens / meter**2,\n",
    "    'Ri': 0.4504 * ohm * meter,\n",
    "    'Cm': 1.7 * mfarad / meter**2,\n",
    "    'trelax': 0.25*ms\n",
    "}\n",
    "\n",
    "if do_fit:\n",
    "    Repol_kws_025 = fit_Ri_Cm(pel.make_repolarizing_neuron, Repol_kws_025)\n",
    "\n",
    "Repol_MGF_025 = pel.make_repolarizing_neuron(morpho=morpho_MGF, **Repol_kws_025)\n",
    "\n",
    "M_Repol_collision_025 = pel.run_cable(Repol_MGF_025, **general_collision_kws)"
   ]
  },
  {
   "cell_type": "code",
   "execution_count": 38,
   "id": "8f3de7c1",
   "metadata": {
    "ExecuteTime": {
     "end_time": "2022-05-07T17:58:56.095244Z",
     "start_time": "2022-05-07T17:58:15.081747Z"
    },
    "code_folding": []
   },
   "outputs": [],
   "source": [
    "# Repol_kws_06 = {\n",
    "#     'gstar': 30. * siemens / meter**2,\n",
    "#     'Ri': 0.37829549 * ohm * meter,\n",
    "#     'Cm': 0.00187738 * farad / (meter ** 2),\n",
    "#     'trelax': 0.6*ms\n",
    "# }\n",
    "# \n",
    "# if do_fit:\n",
    "#     Repol_kws_06 = fit_Ri_Cm(pel.make_repolarizing_neuron, Repol_kws_06)\n",
    "# \n",
    "# Repol_MGF_06 = pel.make_repolarizing_neuron(morpho=morpho_MGF, **Repol_kws_06)\n",
    "# \n",
    "# M_Repol_collision_06 = pel.run_cable(Repol_MGF_06, **general_collision_kws)"
   ]
  },
  {
   "cell_type": "code",
   "execution_count": 39,
   "id": "98772034",
   "metadata": {
    "ExecuteTime": {
     "end_time": "2022-05-07T17:59:56.312399Z",
     "start_time": "2022-05-07T17:59:15.544043Z"
    },
    "code_folding": []
   },
   "outputs": [
    {
     "name": "stdout",
     "output_type": "stream",
     "text": [
      " -  gstar 30. S/(m^2)\n",
      " -  Ri 0.315 ohm m\n",
      " -  Cm 0.002 F/(m^2)\n",
      " -  trelax 1. ms\n",
      "Theory:     14.83m/s,  1.456mm\n",
      "Simulation: 14.52m/s,  6.397mm\n",
      "Cm= 2.082 mF/m^2  v_set=14.53 m/s   v_is = 14.524 m/s  Deviation: 0.01 %\n",
      "Velocity ok at  {'gstar': 30. * siemens / (meter ** 2), 'Ri': 0.3145 * ohm * meter, 'Cm': 0.002082 * farad / (meter ** 2), 'trelax': 1. * msecond}\n"
     ]
    },
    {
     "data": {
      "application/vnd.jupyter.widget-view+json": {
       "model_id": "56346aaffd134b0790c69babf15ca8c0",
       "version_major": 2,
       "version_minor": 0
      },
      "text/plain": [
       "  0%|          | 0/801 [00:00<?, ?it/s]"
      ]
     },
     "metadata": {},
     "output_type": "display_data"
    },
    {
     "name": "stdout",
     "output_type": "stream",
     "text": [
      "raw propagation Peak:   2.5mV, now scaled by factor: 1.14\n",
      "Width mismath: 0.020776152982483476\n",
      "OK.\n",
      " -  gstar 30. S/(m^2)\n",
      " -  Ri 0.315 ohm m\n",
      " -  Cm 0.002 F/(m^2)\n",
      " -  trelax 1. ms\n"
     ]
    }
   ],
   "source": [
    "Repol_kws_100 = {\n",
    "    'gstar': 30. * siemens / meter**2,\n",
    "    'Ri': 0.3145 * ohm * meter,\n",
    "    'Cm': 0.002082 * farad / meter**2,\n",
    "    'trelax': 1.00*ms\n",
    "}\n",
    "\n",
    "if do_fit:\n",
    "    Repol_kws_100 = fit_Ri_Cm(pel.make_repolarizing_neuron, Repol_kws_100)\n",
    "\n",
    "Repol_MGF_100 = pel.make_repolarizing_neuron(morpho=morpho_MGF, **Repol_kws_100)\n",
    "\n",
    "M_Repol_collision_100 = pel.run_cable(Repol_MGF_100, **general_collision_kws)"
   ]
  },
  {
   "cell_type": "code",
   "execution_count": 40,
   "id": "3d6235be",
   "metadata": {
    "ExecuteTime": {
     "end_time": "2022-05-07T17:59:56.312399Z",
     "start_time": "2022-05-07T17:59:15.544043Z"
    },
    "code_folding": []
   },
   "outputs": [
    {
     "name": "stdout",
     "output_type": "stream",
     "text": [
      " -  gstar 30. S/(m^2)\n",
      " -  Ri 0.295 ohm m\n",
      " -  Cm 0.002 F/(m^2)\n",
      " -  trelax 3. ms\n",
      "Theory:     14.84m/s,  1.502mm\n",
      "Simulation: 14.54m/s,  5.747mm\n",
      "Cm= 2.148 mF/m^2  v_set=14.53 m/s   v_is = 14.535 m/s  Deviation: 0.07 %\n",
      "Velocity ok at  {'gstar': 30. * siemens / (meter ** 2), 'Ri': 0.2954 * ohm * meter, 'Cm': 0.002148 * farad / (meter ** 2), 'trelax': 3. * msecond}\n"
     ]
    },
    {
     "data": {
      "application/vnd.jupyter.widget-view+json": {
       "model_id": "8386ee20c53f43e3a0541eebcee22a0a",
       "version_major": 2,
       "version_minor": 0
      },
      "text/plain": [
       "  0%|          | 0/801 [00:00<?, ?it/s]"
      ]
     },
     "metadata": {},
     "output_type": "display_data"
    },
    {
     "name": "stdout",
     "output_type": "stream",
     "text": [
      "raw propagation Peak:   2.6mV, now scaled by factor: 1.09\n",
      "Width mismath: -0.020892946890602504\n",
      "OK.\n",
      " -  gstar 30. S/(m^2)\n",
      " -  Ri 0.295 ohm m\n",
      " -  Cm 0.002 F/(m^2)\n",
      " -  trelax 3. ms\n"
     ]
    }
   ],
   "source": [
    "Repol_kws_300 = {\n",
    "    'gstar': 30. * siemens / meter**2,\n",
    "    'Ri': 0.2954 * ohm * meter,\n",
    "    'Cm': 2.148 * mfarad / meter**2,\n",
    "    'trelax': 3.00*ms\n",
    "}\n",
    "\n",
    "if do_fit:\n",
    "    Repol_kws_300 = fit_Ri_Cm(pel.make_repolarizing_neuron, Repol_kws_300)\n",
    "\n",
    "Repol_MGF_300 = pel.make_repolarizing_neuron(morpho=morpho_MGF, **Repol_kws_300)\n",
    "\n",
    "M_Repol_collision_300 = pel.run_cable(Repol_MGF_300, **general_collision_kws)"
   ]
  },
  {
   "cell_type": "code",
   "execution_count": 41,
   "id": "spoken-captain",
   "metadata": {
    "ExecuteTime": {
     "end_time": "2022-05-07T18:00:10.875195Z",
     "start_time": "2022-05-07T17:59:59.620709Z"
    },
    "code_folding": []
   },
   "outputs": [
    {
     "name": "stdout",
     "output_type": "stream",
     "text": [
      "Theory:     15.00m/s,  1.328mm\n",
      "Simulation: 14.75m/s,  1.549mm\n",
      "Theory:     15.18m/s,  1.217mm\n",
      "Simulation: 14.67m/s,  1.499mm\n"
     ]
    },
    {
     "name": "stderr",
     "output_type": "stream",
     "text": [
      "WARNING    /home/ms/bucket/collision-glab/pyoelectricity.py:277: RuntimeWarning: More than 20 figures have been opened. Figures created through the pyplot interface (`matplotlib.pyplot.figure`) are retained until explicitly closed and may consume too much memory. (To control this warning, see the rcParam `figure.max_open_warning`).\n",
      "  fig, axs = plt.subplots(1,3, figsize=figsize)\n",
      " [py.warnings]\n"
     ]
    },
    {
     "name": "stdout",
     "output_type": "stream",
     "text": [
      "Theory:     14.83m/s,  1.456mm\n",
      "Simulation: 14.63m/s,  1.499mm\n"
     ]
    }
   ],
   "source": [
    "for RTM_Monitor in [M_Repol_collision,\n",
    "                    M_Repol_collision_025,\n",
    "                    M_Repol_collision_100\n",
    "                   ]:\n",
    "    v_sim, lamba_sim = pel.get_velocity(RTM_Monitor)#, x_start=2 * cm, x_stop=4 * cm)"
   ]
  },
  {
   "cell_type": "markdown",
   "id": "c81110c9",
   "metadata": {},
   "source": [
    "### Repolarizing 450"
   ]
  },
  {
   "cell_type": "code",
   "execution_count": 42,
   "id": "47c04e9f",
   "metadata": {
    "ExecuteTime": {
     "end_time": "2022-05-07T17:54:06.857133Z",
     "start_time": "2022-05-07T17:52:54.516289Z"
    },
    "code_folding": [],
    "scrolled": true
   },
   "outputs": [
    {
     "name": "stdout",
     "output_type": "stream",
     "text": [
      " -  gstar 450. S/(m^2)\n",
      " -  Ri 0.033 ohm m\n",
      " -  Cm 0.025 F/(m^2)\n",
      " -  trelax 0.5 ms\n",
      "Theory:     14.99m/s,  1.164mm\n",
      "Simulation: 14.62m/s,  5.997mm\n",
      "Cm=24.713 mF/m^2  v_set=14.53 m/s   v_is = 14.625 m/s  Deviation: 0.69 %\n",
      "Velocity ok at  {'gstar': 450. * siemens / (meter ** 2), 'Ri': 0.03278 * ohm * meter, 'Cm': 0.024713 * farad / (meter ** 2), 'trelax': 0.5 * msecond}\n"
     ]
    },
    {
     "data": {
      "application/vnd.jupyter.widget-view+json": {
       "model_id": "250c7b82ca9448b9ab48906852efc2d5",
       "version_major": 2,
       "version_minor": 0
      },
      "text/plain": [
       "  0%|          | 0/801 [00:00<?, ?it/s]"
      ]
     },
     "metadata": {},
     "output_type": "display_data"
    },
    {
     "name": "stdout",
     "output_type": "stream",
     "text": [
      "raw propagation Peak:  27.6mV, now scaled by factor: 0.10\n",
      "Width mismath: -0.010146705344384221\n",
      "OK.\n",
      " -  gstar 450. S/(m^2)\n",
      " -  Ri 0.033 ohm m\n",
      " -  Cm 0.025 F/(m^2)\n",
      " -  trelax 0.5 ms\n"
     ]
    }
   ],
   "source": [
    "Repol_450_kws = {\n",
    "    'gstar': 450. * siemens / meter**2,\n",
    "    'Ri': 0.03278 * ohm * meter,\n",
    "    'Cm': 24.713 * mfarad / meter**2,\n",
    "    'trelax': 0.5 * ms\n",
    "}\n",
    "\n",
    "if do_fit:\n",
    "    Repol_450_kws = fit_Ri_Cm(pel.make_repolarizing_neuron, Repol_450_kws)\n",
    "\n",
    "Repol_450_MGF = pel.make_repolarizing_neuron(morpho=morpho_MGF, **Repol_450_kws)\n",
    "\n",
    "M_Repol_450_collision = pel.run_cable(Repol_450_MGF, **general_collision_kws)"
   ]
  },
  {
   "cell_type": "code",
   "execution_count": 43,
   "id": "f77d7f2f",
   "metadata": {
    "ExecuteTime": {
     "end_time": "2022-05-07T17:54:06.857133Z",
     "start_time": "2022-05-07T17:52:54.516289Z"
    },
    "code_folding": []
   },
   "outputs": [
    {
     "name": "stdout",
     "output_type": "stream",
     "text": [
      " -  gstar 450. S/(m^2)\n",
      " -  Ri 0.031 ohm m\n",
      " -  Cm 0.025 F/(m^2)\n",
      " -  trelax 250. us\n",
      "Theory:     15.17m/s,  1.201mm\n",
      "Simulation: 14.52m/s,  8.571mm\n",
      "Cm=25.200 mF/m^2  v_set=14.53 m/s   v_is = 14.525 m/s  Deviation: 0.00 %\n",
      "Velocity ok at  {'gstar': 450. * siemens / (meter ** 2), 'Ri': 0.03079 * ohm * meter, 'Cm': 0.0252 * farad / (meter ** 2), 'trelax': 250. * usecond}\n"
     ]
    },
    {
     "data": {
      "application/vnd.jupyter.widget-view+json": {
       "model_id": "7a0bc0ce6d71420689a2b0ed2f7e9777",
       "version_major": 2,
       "version_minor": 0
      },
      "text/plain": [
       "  0%|          | 0/801 [00:00<?, ?it/s]"
      ]
     },
     "metadata": {},
     "output_type": "display_data"
    },
    {
     "name": "stdout",
     "output_type": "stream",
     "text": [
      "raw propagation Peak:  27.4mV, now scaled by factor: 0.10\n",
      "Width mismath: -0.010146705344384221\n",
      "OK.\n",
      " -  gstar 450. S/(m^2)\n",
      " -  Ri 0.031 ohm m\n",
      " -  Cm 0.025 F/(m^2)\n",
      " -  trelax 250. us\n"
     ]
    }
   ],
   "source": [
    "Repol_450_kws_025 = {\n",
    "    'gstar': 450. * siemens / meter**2,\n",
    "    'Ri': 0.03079 * ohm * meter,\n",
    "    'Cm': 25.2 * mfarad / meter**2,\n",
    "    'trelax': 0.25 * ms\n",
    "}\n",
    "\n",
    "if do_fit:\n",
    "    Repol_450_kws_025 = fit_Ri_Cm(pel.make_repolarizing_neuron, Repol_450_kws_025)\n",
    "\n",
    "Repol_450_MGF_025 = pel.make_repolarizing_neuron(morpho=morpho_MGF, **Repol_450_kws_025)\n",
    "\n",
    "M_Repol_450_collision_025 = pel.run_cable(Repol_450_MGF_025, **general_collision_kws)"
   ]
  },
  {
   "cell_type": "code",
   "execution_count": 44,
   "id": "c784d0b0",
   "metadata": {
    "ExecuteTime": {
     "end_time": "2022-05-07T17:54:06.857133Z",
     "start_time": "2022-05-07T17:52:54.516289Z"
    },
    "code_folding": [
     0
    ]
   },
   "outputs": [
    {
     "name": "stdout",
     "output_type": "stream",
     "text": [
      " -  gstar 450. S/(m^2)\n",
      " -  Ri 0.025 ohm m\n",
      " -  Cm 0.028 F/(m^2)\n",
      " -  trelax 1. ms\n",
      "Theory:     14.85m/s,  1.322mm\n",
      "Simulation: 14.54m/s,  7.996mm\n",
      "Cm=28.323 mF/m^2  v_set=14.53 m/s   v_is = 14.536 m/s  Deviation: 0.07 %\n",
      "Velocity ok at  {'gstar': 450. * siemens / (meter ** 2), 'Ri': 0.02544 * ohm * meter, 'Cm': 0.028323 * farad / (meter ** 2), 'trelax': 1. * msecond}\n"
     ]
    },
    {
     "data": {
      "application/vnd.jupyter.widget-view+json": {
       "model_id": "7ea3149b37e746d585be2006ecb46589",
       "version_major": 2,
       "version_minor": 0
      },
      "text/plain": [
       "  0%|          | 0/801 [00:00<?, ?it/s]"
      ]
     },
     "metadata": {},
     "output_type": "display_data"
    },
    {
     "name": "stdout",
     "output_type": "stream",
     "text": [
      "raw propagation Peak:  33.1mV, now scaled by factor: 0.09\n",
      "Width mismath: -0.010146705344384221\n",
      "OK.\n",
      " -  gstar 450. S/(m^2)\n",
      " -  Ri 0.025 ohm m\n",
      " -  Cm 0.028 F/(m^2)\n",
      " -  trelax 1. ms\n"
     ]
    }
   ],
   "source": [
    "Repol_450_kws_100 = {\n",
    "    'gstar': 450. * siemens / meter**2,\n",
    "    'Ri': 0.02544 * ohm * meter,\n",
    "    'Cm': 28.323 * mfarad / meter**2,\n",
    "    'trelax': 1.00 * ms\n",
    "}\n",
    "\n",
    "if do_fit:\n",
    "    Repol_450_kws_100 = fit_Ri_Cm(pel.make_repolarizing_neuron, Repol_450_kws_100)\n",
    "\n",
    "Repol_450_MGF_100 = pel.make_repolarizing_neuron(morpho=morpho_MGF, **Repol_450_kws_100)\n",
    "\n",
    "M_Repol_450_collision_100 = pel.run_cable(Repol_450_MGF_100, **general_collision_kws)"
   ]
  },
  {
   "cell_type": "code",
   "execution_count": 45,
   "id": "a605a9be",
   "metadata": {
    "ExecuteTime": {
     "end_time": "2022-05-07T17:54:06.857133Z",
     "start_time": "2022-05-07T17:52:54.516289Z"
    },
    "code_folding": [
     0
    ],
    "scrolled": true
   },
   "outputs": [
    {
     "name": "stdout",
     "output_type": "stream",
     "text": [
      " -  gstar 450. S/(m^2)\n",
      " -  Ri 0.02 ohm m\n",
      " -  Cm 0.032 F/(m^2)\n",
      " -  trelax 3. ms\n",
      "Theory:     14.85m/s,  1.500mm\n",
      "Simulation: 14.55m/s,  4.223mm\n",
      "Cm=32.150 mF/m^2  v_set=14.53 m/s   v_is = 14.552 m/s  Deviation: 0.18 %\n",
      "Velocity ok at  {'gstar': 450. * siemens / (meter ** 2), 'Ri': 0.01975 * ohm * meter, 'Cm': 0.03215 * farad / (meter ** 2), 'trelax': 3. * msecond}\n"
     ]
    },
    {
     "data": {
      "application/vnd.jupyter.widget-view+json": {
       "model_id": "398de21f191442e0a0bef4b223a86011",
       "version_major": 2,
       "version_minor": 0
      },
      "text/plain": [
       "  0%|          | 0/801 [00:00<?, ?it/s]"
      ]
     },
     "metadata": {},
     "output_type": "display_data"
    },
    {
     "name": "stdout",
     "output_type": "stream",
     "text": [
      "raw propagation Peak:  39.1mV, now scaled by factor: 0.07\n",
      "Width mismath: -0.020892946890602504\n",
      "OK.\n",
      " -  gstar 450. S/(m^2)\n",
      " -  Ri 0.02 ohm m\n",
      " -  Cm 0.032 F/(m^2)\n",
      " -  trelax 3. ms\n"
     ]
    }
   ],
   "source": [
    "Repol_450_kws_300 = {\n",
    "    'gstar': 450. * siemens / meter**2,\n",
    "    'Ri': 0.01975 * ohm * meter,\n",
    "    'Cm': 32.150 * mfarad / meter**2,\n",
    "    'trelax': 3.00 * ms\n",
    "}\n",
    "if do_fit:\n",
    "    Repol_450_kws_300 = fit_Ri_Cm(pel.make_repolarizing_neuron, Repol_450_kws_300)\n",
    "\n",
    "Repol_450_MGF_300 = pel.make_repolarizing_neuron(morpho=morpho_MGF, **Repol_450_kws_300)\n",
    "\n",
    "M_Repol_450_collision_300 = pel.run_cable(Repol_450_MGF_300, **general_collision_kws)"
   ]
  },
  {
   "cell_type": "markdown",
   "id": "determined-cheese",
   "metadata": {},
   "source": [
    "### HH"
   ]
  },
  {
   "cell_type": "code",
   "execution_count": 46,
   "id": "certain-andrews",
   "metadata": {
    "ExecuteTime": {
     "end_time": "2022-05-07T17:19:08.348499Z",
     "start_time": "2022-05-07T17:11:49.196035Z"
    },
    "code_folding": [
     0
    ],
    "run_control": {
     "marked": false
    },
    "scrolled": false
   },
   "outputs": [
    {
     "name": "stdout",
     "output_type": "stream",
     "text": [
      " -  Ri 0.309 ohm m\n",
      " -  Cm 0.002 F/(m^2)\n",
      "Simulation: 14.55m/s,  7.646mm\n",
      "Cm= 1.844 mF/m^2  v_set=14.53 m/s   v_is = 14.545 m/s  Deviation: 0.14 %\n",
      "Velocity ok at  {'Ri': 0.309 * ohm * meter, 'Cm': 0.001844 * farad / (meter ** 2)}\n"
     ]
    },
    {
     "data": {
      "application/vnd.jupyter.widget-view+json": {
       "model_id": "4c1f23630e7a4d56916e4320f96dcb03",
       "version_major": 2,
       "version_minor": 0
      },
      "text/plain": [
       "  0%|          | 0/801 [00:00<?, ?it/s]"
      ]
     },
     "metadata": {},
     "output_type": "display_data"
    },
    {
     "name": "stdout",
     "output_type": "stream",
     "text": [
      "raw propagation Peak:   3.3mV, now scaled by factor: 0.86\n",
      "Width mismath: 0.020776152982483476\n",
      "OK.\n",
      " -  Ri 0.309 ohm m\n",
      " -  Cm 0.002 F/(m^2)\n"
     ]
    }
   ],
   "source": [
    "# Fit HH\n",
    "\n",
    "HH_kws = {'Ri': 0.309 * ohm * meter,\n",
    "          'Cm': 1.844 * mfarad / meter ** 2}\n",
    "\n",
    "if do_fit:\n",
    "    HH_kws = fit_Ri_Cm(pel.make_hh_neuron, HH_kws, exponent=8 / 5)\n",
    "\n",
    "# Run fitted HH model\n",
    "HH_MGF = pel.make_hh_neuron(morpho=morpho_MGF, **HH_kws)\n",
    "M_HH_collision = pel.run_cable(HH_MGF,**general_collision_kws)"
   ]
  },
  {
   "cell_type": "code",
   "execution_count": 47,
   "id": "noted-studio",
   "metadata": {
    "ExecuteTime": {
     "end_time": "2022-05-07T17:19:51.792936Z",
     "start_time": "2022-05-07T17:19:48.680072Z"
    },
    "code_folding": [],
    "run_control": {
     "marked": false
    }
   },
   "outputs": [
    {
     "name": "stdout",
     "output_type": "stream",
     "text": [
      "Simulation: 14.57m/s,  2.799mm\n"
     ]
    },
    {
     "data": {
      "text/plain": [
       "(14.56577925 * mmetre / msecond, 2.7986007 * mmetre)"
      ]
     },
     "execution_count": 47,
     "metadata": {},
     "output_type": "execute_result"
    }
   ],
   "source": [
    "pel.get_velocity(M_HH_collision)#, x_start=2*cm, x_stop=4*cm)"
   ]
  },
  {
   "cell_type": "markdown",
   "id": "702479b7",
   "metadata": {},
   "source": [
    "## Show resulting parameters"
   ]
  },
  {
   "cell_type": "code",
   "execution_count": 48,
   "id": "02bc4da4",
   "metadata": {
    "ExecuteTime": {
     "end_time": "2022-05-17T15:55:02.944746Z",
     "start_time": "2022-05-17T15:55:02.911451Z"
    },
    "code_folding": [],
    "hide_input": false,
    "run_control": {
     "marked": false
    }
   },
   "outputs": [
    {
     "name": "stdout",
     "output_type": "stream",
     "text": [
      "         |Ri/(ohm*cm)|Cm/(uF/cm**2)| RC/(s/m**2)| g*/(S/m**2)||trelax(ms)|v_p/(m/s)|lambda/(mm)\n",
      "TM       |      20.0 |        0.26 |       26.0 |       30.0 ||      nan |    14.9 |       1.83\n",
      "TM450    |       1.3 |        3.95 |       25.7 |      450.0 ||      nan |    14.9 |       1.85\n",
      "rtm-0.25 |      45.0 |        0.17 |       38.3 |       30.0 ||     0.25 |    15.2 |       1.22\n",
      "rtm-0.50 |      37.8 |        0.19 |       35.5 |       30.0 ||     0.50 |    15.0 |       1.33\n",
      "rtm-1.00 |      31.4 |        0.21 |       32.7 |       30.0 ||     1.00 |    14.8 |       1.46\n",
      "RTM-0.25 |       3.1 |        2.52 |       38.8 |      450.0 ||     0.25 |    15.2 |       1.20\n",
      "RTM-0.50 |       3.3 |        2.47 |       40.5 |      450.0 ||     0.50 |    15.0 |       1.16\n",
      "RTM-1.00 |       2.5 |        2.83 |       36.0 |      450.0 ||     1.00 |    14.8 |       1.32\n",
      "HH       |      30.9 |        0.18 |       28.5 |        nan ||      nan |     nan |        nan\n"
     ]
    }
   ],
   "source": [
    "print(f'{\"\":8} |Ri/(ohm*cm)|Cm/(uF/cm**2)| RC/(s/m**2)|'+\\\n",
    "      f' g*/(S/m**2)||trelax(ms)|v_p/(m/s)|lambda/(mm)' )\n",
    "\n",
    "for lbl, model in [['TM', M_Tasaki_collision.source],\n",
    "                   ['TM450', M_Tasaki450_collision.source],\n",
    "                   ['rtm-0.25', M_Repol_collision_025.source],\n",
    "                   ['rtm-0.50', M_Repol_collision.source],\n",
    "                   ['rtm-1.00', M_Repol_collision_100.source],\n",
    "                   ['RTM-0.25', M_Repol_450_collision_025.source],\n",
    "                   ['RTM-0.50', M_Repol_450_collision.source],\n",
    "                   ['RTM-1.00', M_Repol_450_collision_100.source],\n",
    "                   ['HH', M_HH_collision.source]\n",
    "                  ]:\n",
    "    \n",
    "    # print\n",
    "    Ri = Quantity(model.Ri)\n",
    "    Cm = Quantity(model.Cm[0])\n",
    "    circumference = pi*model.morphology.diameter[0]\n",
    "    cm_len = Cm*circumference\n",
    "    ri_len = Ri/(pi*(model.morphology.diameter[0]/2)**2)\n",
    "    rc = (cm_len*ri_len)\n",
    "    trelax_ms = np.nan\n",
    "    v_p_ms = np.nan\n",
    "    lambda_mm = np.nan\n",
    "    gstar = np.nan\n",
    "    try:\n",
    "        gstar = model.namespace['gstar']\n",
    "        gstar_len = gstar*circumference\n",
    "        v_p, lamd = pel.get_tasaki_v_lambdastar(model)\n",
    "        v_p_ms = v_p/(mm/ms)\n",
    "        lambda_mm = lamd/mm\n",
    "        trelax_ms = model.namespace['trelax']/(ms)\n",
    "    except KeyError as e:\n",
    "        pass\n",
    "    \n",
    "    print(f'{lbl:8} | {Ri/(ohm*cm):9.1f} | {Cm/(ufarad/cm**2):11.2f} | {rc/(second/meter**2):10.1f} |',\n",
    "          f'{gstar/(siemens/meter**2):10.1f} || {trelax_ms:8.2f} | {v_p_ms:7.1f} | {lambda_mm:10.2f}')\n"
   ]
  },
  {
   "cell_type": "code",
   "execution_count": 49,
   "id": "4909e17b",
   "metadata": {
    "ExecuteTime": {
     "end_time": "2022-04-25T20:04:45.353684Z",
     "start_time": "2022-04-25T20:04:45.353672Z"
    }
   },
   "outputs": [
    {
     "data": {
      "text/plain": [
       "'23.25581395 s/(m^2)'"
      ]
     },
     "execution_count": 49,
     "metadata": {},
     "output_type": "execute_result"
    }
   ],
   "source": [
    "# Tasaki literature value (On the cable theory 2002):\n",
    "# Frog motor nerve fibers\n",
    "rc = 1/(430*cm**2/second)\n",
    "rc.in_unit(second/meter**2)"
   ]
  },
  {
   "cell_type": "markdown",
   "id": "developed-windsor",
   "metadata": {},
   "source": [
    "## Final Calculate LFP at electrodes"
   ]
  },
  {
   "cell_type": "code",
   "execution_count": 50,
   "id": "pretty-recommendation",
   "metadata": {
    "ExecuteTime": {
     "end_time": "2022-05-07T17:20:34.320598Z",
     "start_time": "2022-05-07T17:20:34.314909Z"
    }
   },
   "outputs": [],
   "source": [
    "general_Ve_calculation_kwgs = {\n",
    "    't_start': 0*ms,\n",
    "    'prop_peak_set': prop_peaks.mean(),\n",
    "    'el_geometry' : 'EL',\n",
    "    'electrode_radius' : 0.4*mm,\n",
    "    'electrode_separation' : 6*mm\n",
    "}"
   ]
  },
  {
   "cell_type": "code",
   "execution_count": 51,
   "id": "4b0eb112",
   "metadata": {
    "ExecuteTime": {
     "end_time": "2022-05-17T15:46:31.135269Z",
     "start_time": "2022-05-17T15:46:31.070124Z"
    }
   },
   "outputs": [
    {
     "data": {
      "text/latex": [
       "$21.220659078919383\\,\\mathrm{k}\\mathrm{ohm}$"
      ],
      "text/plain": [
       "21.22065908 * kohm"
      ]
     },
     "execution_count": 51,
     "metadata": {},
     "output_type": "execute_result"
    }
   ],
   "source": [
    "# This is how Rel is calculated in pel.\n",
    "crossection_area=pi * (0.5*mm)**2\n",
    "sigma=0.3 * siemens / meter\n",
    "Rel = 5*mm/(crossection_area*sigma)\n",
    "Rel"
   ]
  },
  {
   "cell_type": "markdown",
   "id": "1dd8dbea",
   "metadata": {},
   "source": [
    "### TM"
   ]
  },
  {
   "cell_type": "code",
   "execution_count": 52,
   "id": "lyric-better",
   "metadata": {
    "ExecuteTime": {
     "end_time": "2022-05-07T19:19:39.763360Z",
     "start_time": "2022-05-07T19:17:28.784322Z"
    }
   },
   "outputs": [
    {
     "data": {
      "application/vnd.jupyter.widget-view+json": {
       "model_id": "199c3e27ad984e418a03d4bca8dfa136",
       "version_major": 2,
       "version_minor": 0
      },
      "text/plain": [
       "  0%|          | 0/801 [00:00<?, ?it/s]"
      ]
     },
     "metadata": {},
     "output_type": "display_data"
    },
    {
     "name": "stdout",
     "output_type": "stream",
     "text": [
      "raw propagation Peak:   3.3mV, now scaled by factor: 0.87\n"
     ]
    }
   ],
   "source": [
    "LFP_TC_EL = calculate_Ve_Collision(M_Tasaki_collision, **general_Ve_calculation_kwgs)"
   ]
  },
  {
   "cell_type": "code",
   "execution_count": 53,
   "id": "afb83c41",
   "metadata": {
    "ExecuteTime": {
     "end_time": "2022-05-07T17:37:47.374859Z",
     "start_time": "2022-05-07T17:36:38.539094Z"
    }
   },
   "outputs": [
    {
     "data": {
      "application/vnd.jupyter.widget-view+json": {
       "model_id": "a8340e523de241578b2ab86b542444cb",
       "version_major": 2,
       "version_minor": 0
      },
      "text/plain": [
       "  0%|          | 0/801 [00:00<?, ?it/s]"
      ]
     },
     "metadata": {},
     "output_type": "display_data"
    },
    {
     "name": "stdout",
     "output_type": "stream",
     "text": [
      "raw propagation Peak:  50.1mV, now scaled by factor: 0.06\n"
     ]
    }
   ],
   "source": [
    "LFP_TC450_EL = calculate_Ve_Collision(M_Tasaki450_collision, **general_Ve_calculation_kwgs)"
   ]
  },
  {
   "cell_type": "markdown",
   "id": "422175ac",
   "metadata": {},
   "source": [
    "### RTM"
   ]
  },
  {
   "cell_type": "code",
   "execution_count": 54,
   "id": "046587f3",
   "metadata": {
    "ExecuteTime": {
     "end_time": "2022-05-07T18:02:24.089291Z",
     "start_time": "2022-05-07T18:01:10.200044Z"
    }
   },
   "outputs": [
    {
     "data": {
      "application/vnd.jupyter.widget-view+json": {
       "model_id": "646f3bf2c7f442bdbff83c1a4125b391",
       "version_major": 2,
       "version_minor": 0
      },
      "text/plain": [
       "  0%|          | 0/801 [00:00<?, ?it/s]"
      ]
     },
     "metadata": {},
     "output_type": "display_data"
    },
    {
     "name": "stdout",
     "output_type": "stream",
     "text": [
      "raw propagation Peak:   1.9mV, now scaled by factor: 1.53\n"
     ]
    }
   ],
   "source": [
    "LFP_RTM_EL_025 = calculate_Ve_Collision(M_Repol_collision_025, **general_Ve_calculation_kwgs)"
   ]
  },
  {
   "cell_type": "code",
   "execution_count": 55,
   "id": "inner-officer",
   "metadata": {
    "ExecuteTime": {
     "end_time": "2022-05-07T18:02:24.089291Z",
     "start_time": "2022-05-07T18:01:10.200044Z"
    }
   },
   "outputs": [
    {
     "data": {
      "application/vnd.jupyter.widget-view+json": {
       "model_id": "71a3612198684a27917bd6af93c46f54",
       "version_major": 2,
       "version_minor": 0
      },
      "text/plain": [
       "  0%|          | 0/801 [00:00<?, ?it/s]"
      ]
     },
     "metadata": {},
     "output_type": "display_data"
    },
    {
     "name": "stdout",
     "output_type": "stream",
     "text": [
      "raw propagation Peak:   2.2mV, now scaled by factor: 1.29\n"
     ]
    }
   ],
   "source": [
    "LFP_RTM_EL = calculate_Ve_Collision(M_Repol_collision, **general_Ve_calculation_kwgs)"
   ]
  },
  {
   "cell_type": "code",
   "execution_count": 56,
   "id": "d35b6d64",
   "metadata": {
    "ExecuteTime": {
     "end_time": "2022-05-07T18:02:24.089291Z",
     "start_time": "2022-05-07T18:01:10.200044Z"
    }
   },
   "outputs": [
    {
     "data": {
      "application/vnd.jupyter.widget-view+json": {
       "model_id": "8f5313f7ec5343e89931f049d2eea216",
       "version_major": 2,
       "version_minor": 0
      },
      "text/plain": [
       "  0%|          | 0/801 [00:00<?, ?it/s]"
      ]
     },
     "metadata": {},
     "output_type": "display_data"
    },
    {
     "name": "stdout",
     "output_type": "stream",
     "text": [
      "raw propagation Peak:   2.5mV, now scaled by factor: 1.13\n"
     ]
    }
   ],
   "source": [
    "LFP_RTM_EL_100 = calculate_Ve_Collision(M_Repol_collision_100, **general_Ve_calculation_kwgs)"
   ]
  },
  {
   "cell_type": "code",
   "execution_count": 57,
   "id": "c7c65c62",
   "metadata": {
    "ExecuteTime": {
     "end_time": "2022-05-07T18:02:24.089291Z",
     "start_time": "2022-05-07T18:01:10.200044Z"
    }
   },
   "outputs": [
    {
     "data": {
      "application/vnd.jupyter.widget-view+json": {
       "model_id": "b5e47ebf9d2c4fc9b9032a9720c49374",
       "version_major": 2,
       "version_minor": 0
      },
      "text/plain": [
       "  0%|          | 0/801 [00:00<?, ?it/s]"
      ]
     },
     "metadata": {},
     "output_type": "display_data"
    },
    {
     "name": "stdout",
     "output_type": "stream",
     "text": [
      "raw propagation Peak:   2.6mV, now scaled by factor: 1.09\n"
     ]
    }
   ],
   "source": [
    "LFP_RTM_EL_300 = calculate_Ve_Collision(M_Repol_collision_300, **general_Ve_calculation_kwgs)"
   ]
  },
  {
   "cell_type": "code",
   "execution_count": 58,
   "id": "36adad8a",
   "metadata": {},
   "outputs": [
    {
     "data": {
      "application/vnd.jupyter.widget-view+json": {
       "model_id": "ae609d15d653496fb0d5ca37e166eee3",
       "version_major": 2,
       "version_minor": 0
      },
      "text/plain": [
       "  0%|          | 0/801 [00:00<?, ?it/s]"
      ]
     },
     "metadata": {},
     "output_type": "display_data"
    },
    {
     "name": "stdout",
     "output_type": "stream",
     "text": [
      "raw propagation Peak:  27.5mV, now scaled by factor: 0.10\n"
     ]
    }
   ],
   "source": [
    "LFP_RTM450_EL_025 = calculate_Ve_Collision(M_Repol_450_collision_025 , **general_Ve_calculation_kwgs)"
   ]
  },
  {
   "cell_type": "code",
   "execution_count": 59,
   "id": "be36c0cd",
   "metadata": {},
   "outputs": [
    {
     "data": {
      "application/vnd.jupyter.widget-view+json": {
       "model_id": "ee864a7412dd4ae193aea5c45bc2530c",
       "version_major": 2,
       "version_minor": 0
      },
      "text/plain": [
       "  0%|          | 0/801 [00:00<?, ?it/s]"
      ]
     },
     "metadata": {},
     "output_type": "display_data"
    },
    {
     "name": "stdout",
     "output_type": "stream",
     "text": [
      "raw propagation Peak:  27.7mV, now scaled by factor: 0.10\n"
     ]
    }
   ],
   "source": [
    "LFP_RTM450_EL = calculate_Ve_Collision(M_Repol_450_collision , **general_Ve_calculation_kwgs)"
   ]
  },
  {
   "cell_type": "code",
   "execution_count": 60,
   "id": "dd8fb0ff",
   "metadata": {},
   "outputs": [
    {
     "data": {
      "application/vnd.jupyter.widget-view+json": {
       "model_id": "573cfadcfc224250abf85d2b4d7b6d69",
       "version_major": 2,
       "version_minor": 0
      },
      "text/plain": [
       "  0%|          | 0/801 [00:00<?, ?it/s]"
      ]
     },
     "metadata": {},
     "output_type": "display_data"
    },
    {
     "name": "stdout",
     "output_type": "stream",
     "text": [
      "raw propagation Peak:  33.3mV, now scaled by factor: 0.09\n"
     ]
    }
   ],
   "source": [
    "LFP_RTM450_EL_100 = calculate_Ve_Collision(M_Repol_450_collision_100 , **general_Ve_calculation_kwgs)"
   ]
  },
  {
   "cell_type": "code",
   "execution_count": 61,
   "id": "65b509dd",
   "metadata": {},
   "outputs": [
    {
     "data": {
      "application/vnd.jupyter.widget-view+json": {
       "model_id": "d3c74f5abbf0446fb60e923649bba86d",
       "version_major": 2,
       "version_minor": 0
      },
      "text/plain": [
       "  0%|          | 0/801 [00:00<?, ?it/s]"
      ]
     },
     "metadata": {},
     "output_type": "display_data"
    },
    {
     "name": "stdout",
     "output_type": "stream",
     "text": [
      "raw propagation Peak:  39.2mV, now scaled by factor: 0.07\n"
     ]
    }
   ],
   "source": [
    "LFP_RTM450_EL_300 = calculate_Ve_Collision(M_Repol_450_collision_300 , **general_Ve_calculation_kwgs)"
   ]
  },
  {
   "cell_type": "markdown",
   "id": "f18b2c97",
   "metadata": {},
   "source": [
    "### HH"
   ]
  },
  {
   "cell_type": "code",
   "execution_count": 62,
   "id": "plain-rochester",
   "metadata": {
    "ExecuteTime": {
     "end_time": "2022-05-07T17:22:54.191066Z",
     "start_time": "2022-05-07T17:21:51.163011Z"
    }
   },
   "outputs": [
    {
     "data": {
      "application/vnd.jupyter.widget-view+json": {
       "model_id": "0fa20685ea054c399b4bc5df3dea3191",
       "version_major": 2,
       "version_minor": 0
      },
      "text/plain": [
       "  0%|          | 0/801 [00:00<?, ?it/s]"
      ]
     },
     "metadata": {},
     "output_type": "display_data"
    },
    {
     "name": "stdout",
     "output_type": "stream",
     "text": [
      "raw propagation Peak:   3.3mV, now scaled by factor: 0.86\n"
     ]
    }
   ],
   "source": [
    "LFP_HH_EL = calculate_Ve_Collision(M_HH_collision, **general_Ve_calculation_kwgs)"
   ]
  },
  {
   "cell_type": "code",
   "execution_count": 63,
   "id": "0ae2ecac",
   "metadata": {
    "ExecuteTime": {
     "end_time": "2022-05-17T15:46:31.135269Z",
     "start_time": "2022-05-17T15:46:31.070124Z"
    }
   },
   "outputs": [
    {
     "data": {
      "text/latex": [
       "$21.220659078919383\\,\\mathrm{k}\\mathrm{ohm}$"
      ],
      "text/plain": [
       "21.22065908 * kohm"
      ]
     },
     "execution_count": 63,
     "metadata": {},
     "output_type": "execute_result"
    }
   ],
   "source": [
    "# This is how Rel is calculated in pel.\n",
    "crossection_area=pi * (0.5*mm)**2\n",
    "sigma=0.3 * siemens / meter\n",
    "Rel = 5*mm/(crossection_area*sigma)\n",
    "Rel"
   ]
  },
  {
   "cell_type": "markdown",
   "id": "7deb1d04",
   "metadata": {},
   "source": [
    "## Show resulting parameters and ext Field numbers"
   ]
  },
  {
   "cell_type": "code",
   "execution_count": 64,
   "id": "50890250",
   "metadata": {
    "ExecuteTime": {
     "end_time": "2022-05-17T15:55:02.944746Z",
     "start_time": "2022-05-17T15:55:02.911451Z"
    },
    "code_folding": [],
    "hide_input": false,
    "run_control": {
     "marked": false
    }
   },
   "outputs": [
    {
     "ename": "NameError",
     "evalue": "name 'cm_len_fpm' is not defined",
     "output_type": "error",
     "traceback": [
      "\u001b[0;31m---------------------------------------------------------------------------\u001b[0m",
      "\u001b[0;31mNameError\u001b[0m                                 Traceback (most recent call last)",
      "Input \u001b[0;32mIn [64]\u001b[0m, in \u001b[0;36m<cell line: 2>\u001b[0;34m()\u001b[0m\n\u001b[1;32m     41\u001b[0m \u001b[38;5;28;01massert\u001b[39;00m is_dimensionless(ri_len_Mohmpm)\n\u001b[1;32m     42\u001b[0m cm_len_ufpm \u001b[38;5;241m=\u001b[39m cm_len\u001b[38;5;241m/\u001b[39m(ufarad\u001b[38;5;241m/\u001b[39mmeter)\n\u001b[0;32m---> 43\u001b[0m \u001b[38;5;28;01massert\u001b[39;00m is_dimensionless(\u001b[43mcm_len_fpm\u001b[49m)\n\u001b[1;32m     44\u001b[0m rc_spm2 \u001b[38;5;241m=\u001b[39m rc\u001b[38;5;241m/\u001b[39m(second\u001b[38;5;241m/\u001b[39mmeter\u001b[38;5;241m*\u001b[39m\u001b[38;5;241m*\u001b[39m\u001b[38;5;241m2\u001b[39m)\n\u001b[1;32m     45\u001b[0m \u001b[38;5;28;01massert\u001b[39;00m is_dimensionless(rc_spm2)\n",
      "\u001b[0;31mNameError\u001b[0m: name 'cm_len_fpm' is not defined"
     ]
    }
   ],
   "source": [
    "for lbl, model, LFP in [\n",
    "    ['TM450', M_Tasaki450_collision.source, LFP_TC450_EL],\n",
    "    ['HH', M_HH_collision.source, LFP_HH_EL],\n",
    "    ['TM', M_Tasaki_collision.source, LFP_TC_EL],\n",
    "    #['rtm-0.25', M_Repol_collision_025.source, LFP_RTM_EL_025],\n",
    "    ['rtm-0.50', M_Repol_collision.source, LFP_RTM_EL],\n",
    "    #['rtm-1.00', M_Repol_collision_100.source, LFP_RTM_EL_100],\n",
    "    #['rtm-3.00', M_Repol_collision_300.source, LFP_RTM_EL_300],\n",
    "    #['RTM-0.25', M_Repol_450_collision_025.source, LFP_RTM450_EL_025],\n",
    "    #['RTM-0.50', M_Repol_450_collision.source, LFP_RTM450_EL],\n",
    "    #['RTM-1.00', M_Repol_450_collision_100.source, LFP_RTM450_EL_100],\n",
    "    #['RTM-3.00', M_Repol_450_collision_300.source, LFP_RTM450_EL_300],\n",
    "    #['RTM-X5',   M_Repol5_collision.source, LFP_Repol5_EL],\n",
    "]:\n",
    "    \n",
    "    # print\n",
    "    Ri = Quantity(model.Ri)\n",
    "    Cm = Quantity(model.Cm[0])\n",
    "    circumference = pi*model.morphology.diameter[0]\n",
    "    cm_len = Cm*circumference\n",
    "    ri_len = Ri/(pi*(model.morphology.diameter[0]/2)**2)\n",
    "    rc = (cm_len*ri_len)\n",
    "    \n",
    "    # clear values\n",
    "    gstar = gstar_len = v_p = lambd = np.nan\n",
    "    v_p_ms = lambda_mm = trelax_ms = np.nan\n",
    "    gstar_len_mspm = np.nan\n",
    "    try:\n",
    "        gstar = model.namespace['gstar']\n",
    "        gstar_len = gstar*circumference\n",
    "        v_p, lamd = pel.get_tasaki_v_lambdastar(model)\n",
    "        v_p_ms = v_p/(mm/ms)\n",
    "        lambda_mm = lamd/mm\n",
    "        trelax_ms = model.namespace['trelax']/(ms)\n",
    "    except KeyError as e:\n",
    "        pass\n",
    "    \n",
    "    target_xs, t_es, V_es_full, scaling_f = LFP\n",
    "    \n",
    "    ri_len_Mohmpm = ri_len/(Mohm/meter)\n",
    "    assert is_dimensionless(ri_len_Mohmpm)\n",
    "    cm_len_ufpm = cm_len/(ufarad/meter)\n",
    "    assert is_dimensionless(cm_len_fpm)\n",
    "    rc_spm2 = rc/(second/meter**2)\n",
    "    assert is_dimensionless(rc_spm2)\n",
    "    \n",
    "    if gstar_len is not np.nan:\n",
    "        gstar_len_mspm = gstar_len/(msiemens/meter)\n",
    "        assert is_dimensionless(gstar_len_mspm)\n",
    "        \n",
    "    print(f'{lbl:8} & {ri_len_Mohmpm:8.1f} & {cm_len_ufpm:6.2f} & {rc_spm2:9.0f} &',\n",
    "          f'{gstar_len_mspm:6.1f} & {trelax_ms:4.2f} & {v_p_ms:7.1f} & {lambda_mm:5.1f} &',\n",
    "          f'{1/(scaling_f*17.58):4.2f}')\n",
    "    \n",
    "print(f'{\"\":8} &Ri(Mohm/m)&Cm(mF/m)& RC(s/m**2)&'+\\\n",
    "      f'g*(mS/m)&tr(ms)&v_p/(m/s)&l*/(mm)')"
   ]
  },
  {
   "cell_type": "code",
   "execution_count": null,
   "id": "d19df89c",
   "metadata": {},
   "outputs": [],
   "source": [
    "x = ri_len /(ohm/meter)\n",
    "is_dimensionless(x)"
   ]
  },
  {
   "cell_type": "code",
   "execution_count": null,
   "id": "6962a25d",
   "metadata": {
    "ExecuteTime": {
     "end_time": "2022-05-17T15:55:02.944746Z",
     "start_time": "2022-05-17T15:55:02.911451Z"
    },
    "code_folding": [],
    "hide_input": false,
    "run_control": {
     "marked": false
    }
   },
   "outputs": [],
   "source": [
    "print(f'{\"\":8} |Ri(ohm*cm)|Cm(mF/m**2)| RC(s/m**2)|'+\\\n",
    "      f'g*(S/m**2)|tr(ms)|v_p/(m/s)|l*/(mm)' )\n",
    "1/0 backupo\n",
    "plt.figure()\n",
    "\n",
    "for lbl, model, LFP in [['TM', M_Tasaki_collision.source, LFP_TC_EL],\n",
    "                   ['TM450', M_Tasaki450_collision.source, LFP_TC450_EL],\n",
    "                   #['rtm-0.25', M_Repol_collision_025.source],\n",
    "                   ['rtm-0.50', M_Repol_collision.source, LFP_RTM_EL],\n",
    "                   #['rtm-1.00', M_Repol_collision_100.source],\n",
    "                   #['RTM-0.25', M_Repol_450_collision_025.source],\n",
    "                   ['RTM-0.50', M_Repol_450_collision.source, LFP_RTM450_EL],\n",
    "                   #['RTM-1.00', M_Repol_450_collision_100.source],\n",
    "                   ['HH', M_HH_collision.source, LFP_HH_EL]\n",
    "                  ]:\n",
    "    \n",
    "    # print\n",
    "    Ri = Quantity(model.Ri)\n",
    "    Cm = Quantity(model.Cm[0])\n",
    "    circumference = pi*model.morphology.diameter[0]\n",
    "    cm_len = Cm*circumference\n",
    "    ri_len = Ri/(pi*(model.morphology.diameter[0]/2)**2)\n",
    "    rc = (cm_len*ri_len)\n",
    "    trelax_ms = v_p_ms = lambda_mm = np.nan\n",
    "    try:\n",
    "        gstar = model.namespace['gstar']\n",
    "        gstar_len = gstar*circumference\n",
    "        v_p, lamd = pel.get_tasaki_v_lambdastar(model)\n",
    "        v_p_ms = v_p/(mm/ms)\n",
    "        lambda_mm = lamd/mm\n",
    "        trelax_ms = model.namespace['trelax']/(ms)\n",
    "    except KeyError as e:\n",
    "        pass\n",
    "    \n",
    "    target_xs, t_es, V_es_full, scaling_f = LFP\n",
    "    \n",
    "    #print(f'{lbl:8} | {Ri/(ohm*cm):8.1f} | {Cm/(mfarad/meter**2):9.2f} | {rc/(second/meter**2):9.1f} |',\n",
    "    #      f'{gstar/(siemens/meter**2):8.1f} | {trelax_ms:4.2f} | {v_p_ms:7.1f} | {lambda_mm:5.1f} |',\n",
    "    #      f'{scaling_f:4.2f}|{(Rel*scaling_f).in_best_unit(2)}')\n",
    "    #\n",
    "    #print(ri_len.in_unit(Mohm/meter, 3), cm_len.in_unit(ufarad/meter, 3))\n",
    "    ln = plt.plot(V_es_full.max(1), **kwargs)\n",
    "    plt.plot(V_es_full.min(1), color=ln[0].get_color())\n",
    "\n",
    "    plt.show()\n",
    "\n",
    "\n",
    "    print(f'{lbl:8} | {Ri/(ohm*cm):8.1f} | {Cm/(mfarad/meter**2):9.2f} | {rc/(second/meter**2):9.1f} |',\n",
    "          f'{gstar/(siemens/meter**2):8.1f} | {trelax_ms:4.2f} | {v_p_ms:7.1f} | {lambda_mm:5.1f} |',\n",
    "          f'{scaling_f:4.2f}|{(Rel*scaling_f).in_best_unit(2)}')\n",
    "    \n",
    "    print(ri_len.in_unit(Mohm/meter, 3), cm_len.in_unit(ufarad/meter, 3))"
   ]
  },
  {
   "cell_type": "markdown",
   "id": "f1196b4a",
   "metadata": {},
   "source": [
    "## Si Width Figure"
   ]
  },
  {
   "cell_type": "code",
   "execution_count": null,
   "id": "9116e2e9",
   "metadata": {},
   "outputs": [],
   "source": [
    "6.5/2.54"
   ]
  },
  {
   "cell_type": "code",
   "execution_count": null,
   "id": "greater-treasury",
   "metadata": {
    "ExecuteTime": {
     "end_time": "2022-05-07T18:39:25.270543Z",
     "start_time": "2022-05-07T18:39:12.065528Z"
    },
    "code_folding": [
     16
    ]
   },
   "outputs": [],
   "source": [
    "def calc_PSI_simulation(V_es, t_es, target_xs):\n",
    "    \"\"\"Computes the integral in time of the second spatial derivative\"\"\"\n",
    "    ddv = np.gradient(np.gradient(V_es/mV, axis=0), axis=0)*mV\n",
    "    ddv_ddx = (ddv.T/(np.gradient(target_xs/mm)*mm)**2).T\n",
    "    psi = ddv_ddx.sum(axis=1)*np.diff(t_es)[0]\n",
    "    return psi\n",
    "\n",
    "def plot_sim_spatial(axs, target_xs, t_es, V_es0, scaling_f=1.0, **kwargs):\n",
    "    print(kwargs, scaling_f)\n",
    "    V_es = savgol_filter(V_es0/mV, 7, 2, axis=0)\n",
    "    V_es = savgol_filter(V_es, 7, 2, axis=1)*mV\n",
    "    V_es=V_es0\n",
    "    #ln = axs[1].plot(target_xs / mm, scaling_f*V_es.max(axis=1) / mV, **kwargs)\n",
    "    #axs[0].plot(target_xs / mm, scaling_f*V_es.min(axis=1) / mV, **kwargs)\n",
    "    ln = axs[1].plot(target_xs / mm, V_es.max(axis=1) / mV, **kwargs)\n",
    "    #axs[0].plot(target_xs / mm, V_es.min(axis=1) / mV, **kwargs)\n",
    "    maxmin_off = (V_es.min(axis=1).max()+1*mV)\n",
    "    print(maxmin_off)\n",
    "    axs[0].plot(target_xs / mm, (V_es.min(axis=1)-maxmin_off) / mV, **kwargs)\n",
    "    psi = calc_PSI_simulation(V_es, t_es, target_xs)\n",
    "    assert psi.has_same_dimensions(mV * ms / mm**2)\n",
    "    psi = savgol_filter(psi, 11, 1)\n",
    "    axs[2].plot(target_xs / mm, psi / (mV * ms / mm**2), **kwargs)\n",
    "    \n",
    "with plt.style.context('plot_style.txt'):\n",
    "    cm_inch = 1/2.54 # 11.4 or 17.8\n",
    "    skip_debug = False\n",
    "    #fig, (ax_upper, ax_lower) = plt.subplots(2,2, figsize=(17.8*cm_inch, 6.5*cm_inch), num='Traces', sharex='col')\n",
    "    fig, axs = plt.subplots(1,2, figsize=(15,6), num='Spatial')\n",
    "    fig, axSI = plt.subplots(1,1, figsize=(7, 3), num='Width')\n",
    "    axs = [axSI, axs[0], axs[1]]\n",
    "    collision_widths = plot_exp_spatial(axs, color=\"gray\", lw=0.5, marker='+', ls='')    \n",
    "    sim_kw = {}\n",
    "    plot_sim_spatial(axs, *LFP_TC_EL, **sim_kw, color='blue', label='TM')\n",
    "    \n",
    "    #plot_sim_spatial(axs, *LFP_TC450_EL, **sim_kw, ls='--', color='blue')\n",
    "    plot_sim_spatial(axs, *LFP_RTM_EL, **sim_kw, color='red')\n",
    "    # plot_sim_spatial(axs, *LFP_RTM_EL_025, ls = \":\", **sim_kw, color='red')\n",
    "    # plot_sim_spatial(axs, *LFP_RTM_EL_100, ls = \"--\", **sim_kw, color='red')\n",
    "    # plot_sim_spatial(axs, *LFP_RTM_EL_300, ls = \"-.\", **sim_kw, color='red')\n",
    "    # \n",
    "    # plot_sim_spatial(axs, *LFP_RTM450_EL, **sim_kw, color='yellow')\n",
    "    # plot_sim_spatial(axs, *LFP_RTM450_EL_025, ls = \":\", **sim_kw, color='yellow')\n",
    "    # plot_sim_spatial(axs, *LFP_RTM450_EL_100, ls = \"--\", **sim_kw, color='yellow')\n",
    "    # plot_sim_spatial(axs, *LFP_RTM450_EL_300, ls = \"-.\", **sim_kw, color='yellow')\n",
    "    \n",
    "    plot_sim_spatial(axs, *LFP_HH_EL, **sim_kw, color='green')\n",
    "    fig.tight_layout()\n",
    "    for ax in axs:\n",
    "        #ax.set_xlim(-25,25)\n",
    "        ax.set_xlim(-15,15)\n",
    "    axSI.set_xlabel('distance (mm)')\n",
    "    plt.savefig('SI-width.pdf')\n",
    "plt.show()"
   ]
  },
  {
   "cell_type": "markdown",
   "id": "99a1367a",
   "metadata": {},
   "source": [
    "## Figure 3"
   ]
  },
  {
   "cell_type": "code",
   "execution_count": null,
   "id": "66741306",
   "metadata": {
    "ExecuteTime": {
     "end_time": "2022-05-07T19:19:54.245176Z",
     "start_time": "2022-05-07T19:19:53.017125Z"
    },
    "code_folding": [
     1,
     11,
     33,
     56,
     77
    ],
    "run_control": {
     "marked": false
    }
   },
   "outputs": [],
   "source": [
    "# Fig3 eAP & Discharge\n",
    "def plot_sim_trace(axs, target_xs, t_es, V_es, scaling_f=1.0, **kwargs):\n",
    "    print(scaling_f)\n",
    "    i_coll = V_es.shape[0]//2\n",
    "    V_es_prop = V_es[i_coll//2,:]\n",
    "    #scaling_f = prop_peak_exp / max(V_es_prop)\n",
    "    #plt_i_aligned(axs[1], t_es, scaling_f*V_es_prop, n_smooth=3, **kwargs)\n",
    "    #plt_i_aligned(axs[0], t_es, scaling_f*V_es[i_coll,:], n_smooth=3, **kwargs)\n",
    "    plt_i_aligned(axs[0], t_es, V_es_prop, n_smooth=3, **kwargs)\n",
    "    plt_i_aligned(axs[1], t_es, V_es[i_coll,:], n_smooth=3, **kwargs)\n",
    "\n",
    "def plot_local_charge(ax, M, nsav=31, **kwargs):\n",
    "    xs = M.source.x - mean(M.source.x/mm)*mm\n",
    "    dx = xs[1]-xs[0]\n",
    "    \n",
    "    Mv= M.v\n",
    "    if nsav>0:\n",
    "        #Mv = savgol_filter(M.v/mV, nsav, 1, axis=0)*mV\n",
    "        Mv = gaussian_filter1d(M.v/mV, nsav, axis=0)*mV\n",
    "    \n",
    "    grad_v = gradient(Mv, axis=0)/dx\n",
    "    gradgrad_v = gradient(grad_v, axis=0)/dx\n",
    "    assert gradgrad_v.has_same_dimensions(volt/meter**2)\n",
    "    dt = M.t[2] - M.t[1]\n",
    "    ggv_sum = gradgrad_v.sum(1)*dt\n",
    "    \n",
    "    ri = M.source.Ri/(pi*(M.source.diameter/2.0)**2)\n",
    "    charge_dens = ggv_sum /ri\n",
    "    \n",
    "    assert charge_dens.has_same_dimensions(coulomb/meter)\n",
    "    \n",
    "    ax.plot(xs[100:-100]/mm, 1e9*charge_dens[100:-100]/(coulomb/meter), **kwargs)\n",
    "    \n",
    "def plot_local_activation(ax, M, nsav=31, **kwargs):\n",
    "    xs = M.source.x - mean(M.source.x/mm)*mm\n",
    "    dx = xs[1]-xs[0]\n",
    "    \n",
    "    Mv= M.v\n",
    "    if nsav>0:\n",
    "        #Mv = savgol_filter(M.v/mV, nsav, 1, axis=0)*mV\n",
    "        Mv = gaussian_filter1d(M.v/mV, nsav, axis=0)*mV\n",
    "    \n",
    "    grad_v = gradient(Mv, axis=0)/dx\n",
    "    gradgrad_v = gradient(grad_v, axis=0)/dx\n",
    "    assert gradgrad_v.has_same_dimensions(volt/meter**2)\n",
    "    dt = M.t[2] - M.t[1]\n",
    "    ggv_sum = gradgrad_v.sum(1)*dt\n",
    "    \n",
    "    ri = M.source.Ri/(pi*(M.source.diameter/2.0)**2)\n",
    "    cm = M.source.Cm[0]*np.pi*M.source.diameter[0]\n",
    "    charge_dens = ggv_sum / (ri*cm)\n",
    "\n",
    "    assert charge_dens.has_same_dimensions(volt)\n",
    "    \n",
    "    ax.plot(xs[100:-100]/mm, charge_dens[100:-100]/(mV), **kwargs)\n",
    "    \n",
    "def plot_exp_psi(ax, **kwargs):\n",
    "    for id_str in data.keys():\n",
    "        positions_mm = data[id_str][\"positions\"] / mm\n",
    "        assert is_dimensionless(positions_mm)\n",
    "\n",
    "        psi_mtesla = data[id_str][\"Psi\"] / (mV*second/metre**2)\n",
    "        assert is_dimensionless(psi_mtesla)\n",
    "        \n",
    "        lns = []\n",
    "        if id_str.endswith(\"C1\"):\n",
    "            ln = ax.plot(positions_mm, psi_mtesla, '1', ms=4, color='gray', label='anterior', **kwargs)\n",
    "            lns.append(ln)\n",
    "        elif id_str.endswith(\"C2\"):              \n",
    "            ln = ax.plot(positions_mm, psi_mtesla, 'x', ms=3, color='gray', label='medial', **kwargs)\n",
    "            lns.append(ln)\n",
    "        else:                                    \n",
    "            ln = ax.plot(positions_mm, psi_mtesla, '2', ms=4, color='gray', label='posterior', **kwargs)\n",
    "            lns.append(ln)\n",
    "    return lns\n",
    "        #ax.plot(positions_mm,psi_mtesla , **kwargs)\n",
    "        \n",
    "def plot_sim_psi(ax, target_xs, t_es, V_es0, scaling_f, **kwargs):\n",
    "    V_es = savgol_filter(V_es0/mV, 31, 1, axis=0)\n",
    "    V_es = savgol_filter(V_es, 31, 1, axis=1)*mV\n",
    "    \n",
    "    psi = calc_PSI_simulation(V_es, t_es, target_xs)\n",
    "    assert psi.has_same_dimensions(mV * second / metre**2)\n",
    "    psi = savgol_filter(psi, 31, 1)\n",
    "    ax.plot(target_xs / mm, psi / (mV * second / metre**2), **kwargs)\n",
    "    \n",
    "    print(psi[argmin(abs(target_xs))])"
   ]
  },
  {
   "cell_type": "code",
   "execution_count": null,
   "id": "7a792632",
   "metadata": {
    "ExecuteTime": {
     "end_time": "2022-05-07T19:19:54.245176Z",
     "start_time": "2022-05-07T19:19:53.017125Z"
    },
    "code_folding": [
     2
    ],
    "run_control": {
     "marked": false
    }
   },
   "outputs": [],
   "source": [
    "# local activation version\n",
    "sim_kw ={'lw':1.5}#, 'ls':'--'}\n",
    "with plt.style.context('plot_style.txt'):\n",
    "    cm_inch = 1/2.54 # 11.4 or 17.8\n",
    "    skip_debug = False\n",
    "    fig, (ax_upper, ax_lower) = plt.subplots(2,2, figsize=(17.8*cm_inch, 6.5*cm_inch), num='Traces', sharex='col')\n",
    "    ax_traces = (ax_upper[0], ax_lower[0])\n",
    "    ax_spaces = (ax_upper[1], ax_lower[1])\n",
    "\n",
    "    plot_exp_traces(ax_traces, color=\"gray\", lw=1.0, alpha=0.8)\n",
    "    plot_sim_trace(ax_traces, *LFP_TC_EL, label=\"TM\")\n",
    "    #plot_sim_trace(ax_traces, *LFP_TC450_EL, label=\"TM-450\")\n",
    "    if not skip_debug:\n",
    "        plot_sim_trace(ax_traces, *LFP_RTM_EL, label=\"RTM\")\n",
    "        #plot_sim_trace(ax_traces, *LFP_RTM450_EL, label=\"RTM450\")\n",
    "        plot_sim_trace(ax_traces, *LFP_HH_EL, label=\"HH\")\n",
    "        #plot_sim_trace(ax_traces, *LFP_RTM_EL_100, label=\"RTM2\")\n",
    "\n",
    "    ax_traces[0].set_xlim(-1, 3)\n",
    "    ax_traces[1].set_xlim(-1, 3)\n",
    "\n",
    "    # Next Fig\n",
    "    if not skip_debug:\n",
    "        plot_local_activation(ax_spaces[1], M_Tasaki_collision, label=\"TM\")\n",
    "        #plot_local_activation(ax_spaces[1], M_Tasaki450_collision, label=\"TM-450\")\n",
    "        plot_local_activation(ax_spaces[1], M_Repol_collision, label=\"RTM\")\n",
    "        #plot_local_activation(ax_spaces[1], M_Repol_450_collision, label=\"RTM-450\")\n",
    "        plot_local_activation(ax_spaces[1], M_HH_collision, label=\"HH\")\n",
    "        #plot_local_activation(ax_spaces[1], M_Repol_collision_100, label=\"R2\")\n",
    "\n",
    "    ex_psi_lines = plot_exp_psi(ax_spaces[0], alpha=0.6)\n",
    "    \n",
    "    if not skip_debug:\n",
    "        plot_sim_psi(ax_spaces[0], *LFP_TC_EL)\n",
    "        #plot_sim_psi(ax_spaces[0], *LFP_TC450_EL)\n",
    "        plot_sim_psi(ax_spaces[0], *LFP_RTM_EL)#, ls='--')\n",
    "        #plot_sim_psi(ax_spaces[0], *LFP_RTM450_EL)#, ls='')\n",
    "        plot_sim_psi(ax_spaces[0], *LFP_HH_EL)\n",
    "\n",
    "    #ax_spaces[1].set_ylabel(\"$\\Psi_m / r_ic_m$ (mV)\")\n",
    "    ax_spaces[1].set_ylabel(\"$q/c_m$ (mV)\")\n",
    "    ax_spaces[1].set_xlabel(\"x (mm)\")\n",
    "    ax_spaces[1].set_xlim(-25, 25)\n",
    "    ax_spaces[1].set_ylim(-5, 60)\n",
    "    ax_spaces[1].legend()\n",
    "    ax_spaces[0].set_ylabel(\"$\\Psi_e$ (mVs/m$^2$)\")\n",
    "    #ax_spaces[0].set_xlabel(\"x (mm)\")\n",
    "    ax_spaces[0].set_xlim(-25, 25)\n",
    "\n",
    "    ax_spaces[0].set_ylim(-150, 100)\n",
    "\n",
    "    #ax_spaces[1].set_yticks([0.0e-7, 0.5e-7, 1.0e-7])\n",
    "    #ax_spaces[0].set_yticks([-0.1, -0.05, 0.0, 0.05])\n",
    "\n",
    "    from matplotlib.lines import Line2D\n",
    "    \n",
    "    # create legends\n",
    "    custom_lines = [Line2D([0], [0], color='gray', lw=1, alpha=0.8)]\n",
    "    ax_traces[0].legend(custom_lines, ['exp. (all)'])\n",
    "    ax_traces[1].legend(custom_lines, ['exp. (all)'])\n",
    "    \n",
    "    custom_lines = [Line2D([0], [0], color='gray', marker='1', ms=5, ls='', alpha=0.6),\n",
    "                    Line2D([0], [0], color='gray', marker='+', ms=4, ls='', alpha=0.6),\n",
    "                    Line2D([0], [0], color='gray', marker='2', ms=5, ls='', alpha=0.6),\n",
    "                   ]\n",
    "    ax_spaces[0].legend(custom_lines, ['C1', 'C2', 'C3'], loc='lower right')\n",
    "\n",
    "    fig.tight_layout(w_pad=1.8)\n",
    "    #axes = fig.get_axes()\n",
    "    #texts = ['A', 'C', 'B', 'D']\n",
    "    #for ax ,l in zip(axes, texts):\n",
    "    #        X = ax.get_position().x0\n",
    "    #        Y = ax.get_position().y1\n",
    "    #        ax.annotate(l, fontsize=8,# weight = 'bold',\n",
    "    #                    xycoords=\"subfigure fraction\", \n",
    "    #                    xy=(X-0.07, Y)\n",
    "    #                   )\n",
    "    for ax, l in zip(ax_traces, ['A', 'B']):\n",
    "            X = ax.get_position().x0\n",
    "            Y = ax.get_position().y1\n",
    "            ax.annotate(l, fontsize=8,family = 'sans-serif', weight = 'bold',\n",
    "                        xycoords=\"subfigure fraction\", \n",
    "                        xy=(X-0.05, Y)\n",
    "                       )\n",
    "    for ax, l in zip(ax_spaces, ['C', 'D']):\n",
    "            X = ax.get_position().x0\n",
    "            Y = ax.get_position().y1\n",
    "            ax.annotate(l, fontsize=8,family = 'sans-serif', weight = 'bold',\n",
    "                        xycoords=\"subfigure fraction\", \n",
    "                        xy=(X-0.06, Y)\n",
    "                       )\n",
    "            \n",
    "    fig.align_ylabels([ax_upper[0], ax_lower[0]])\n",
    "    fig.align_ylabels([ax_upper[1], ax_lower[1]])\n",
    "\n",
    "    if 0:#1:#save_plots:\n",
    "        fig.savefig(\"Fig3.pdf\", bbox_inches='tight')                \n",
    "        fig.savefig(\"Fig3.svg\", bbox_inches='tight')                \n",
    "\n",
    "    #plt.subplots_adjust(wspace=0.3, hspace=0.1)"
   ]
  },
  {
   "cell_type": "markdown",
   "id": "f5ff37e9",
   "metadata": {},
   "source": [
    "## Figure 2 (Again, with lambdastar_theo)"
   ]
  },
  {
   "cell_type": "code",
   "execution_count": null,
   "id": "46640809",
   "metadata": {
    "ExecuteTime": {
     "end_time": "2022-04-25T20:04:40.142600Z",
     "start_time": "2022-04-25T20:04:38.909959Z"
    },
    "code_folding": [
     20,
     38,
     87
    ],
    "run_control": {
     "marked": false
    },
    "scrolled": false
   },
   "outputs": [],
   "source": [
    "# Plots\n",
    "\n",
    "with plt.style.context('plot_style.txt'):\n",
    "    cm_inch = 1/2.54 # 11.4 or 17.8\n",
    "    fig, axs = plt.subplots(1, 2, figsize=(17.8*cm_inch, 5*cm_inch), gridspec_kw={'width_ratios':[0.6,0.4]})\n",
    "\n",
    "    id_str = \"20C2\"\n",
    "    U_rel, times_rel = make_Rel(data[id_str][\"U\"], data[id_str][\"times_raw\"],\n",
    "                                data[id_str][\"delays_raw\"])\n",
    "\n",
    "    i_coll = np.argmin(np.abs(data[id_str]['delays_rel']))\n",
    "\n",
    "    # find the maximal delay that is availible for both, posterior and anterior stimulation\n",
    "    d_min = min(data['20C2']['delays_rel'])\n",
    "    d_max = max(data['20C2']['delays_rel'])\n",
    "    d_both = min(abs(array([d_min/ms, d_max/ms]))*ms)\n",
    "    i_prop = np.argmin(np.abs(data[id_str]['delays_rel'] - d_both))\n",
    "    i_prop2 = np.argmin(np.abs(data[id_str]['delays_rel'] + d_both))\n",
    "\n",
    "    # Y Axis as position\n",
    "    extent = [\n",
    "        np.min(times_rel / ms),\n",
    "        np.max(times_rel / ms),\n",
    "        np.max(data[id_str]['positions']) / mm,\n",
    "        np.min(data[id_str]['positions']) / mm,\n",
    "    ]\n",
    "    axs[0].set_ylabel(\"position (mm)\")\n",
    "    axs[0].set_ylim(-14, 14)\n",
    "\n",
    "    im = axs[0].imshow(U_rel / mV, extent=extent, aspect=\"auto\", interpolation=\"none\")\n",
    "    #cbar = plt.colorbar(im, ax=axs[0], label=\"$V_e$ (mV)\", pad=0.0, fraction=0.4)#, location='top')\n",
    "    cbar = plt.colorbar(im, ax=axs[0], label=\"$V_e$ (mV)\", pad=0.01, fraction=0.3)#, location='top')\n",
    "\n",
    "    axs[0].set_xlabel(\"time (ms)\")\n",
    "    axs[0].set_xlim(-1.3, 1.3)\n",
    "\n",
    "    pos_fwhm = []\n",
    "    prop_peaks = []\n",
    "    coll_peaks = []\n",
    "    for id_str in data.keys():\n",
    "        positions_mm = data[id_str][\"positions\"] / mm\n",
    "        assert is_dimensionless(positions_mm)\n",
    "\n",
    "        U_max = data[id_str][\"U\"].max(1) / mV\n",
    "        assert is_dimensionless(U_max)\n",
    "\n",
    "        if id_str.endswith(\"C1\"):\n",
    "            ln = axs[1].plot(positions_mm, U_max, '1', color='black')\n",
    "        elif id_str.endswith(\"C2\"):              \n",
    "            ln = axs[1].plot(positions_mm, U_max, '+', color='black')\n",
    "        else:                                    \n",
    "            ln = axs[1].plot(positions_mm, U_max, '2', color='black')\n",
    "\n",
    "        # A Guide to the eye AND calculation of width FWHM\n",
    "        # 1. Interpolate with a cubic spline\n",
    "        HD_pos = np.linspace(min(positions_mm), max(positions_mm), num=200) \n",
    "        HD_U_max_fun = interp1d(positions_mm, U_max, kind='cubic')\n",
    "        HD_U_max = HD_U_max_fun(HD_pos)\n",
    "        axs[1].plot(HD_pos, HD_U_max, color=ln[0].get_color(), lw=0.5, alpha=0.5)\n",
    "\n",
    "        # 2. Calculate FWHM\n",
    "        half_max = (max(HD_U_max) + min(HD_U_max))/2\n",
    "        width_off = (HD_U_max-half_max)\n",
    "        side1 = (HD_pos>0)\n",
    "        p1 = HD_pos[side1][argmin(abs(width_off[side1]))]\n",
    "        side2 = (HD_pos<0)\n",
    "        p2 = HD_pos[side2][argmin(abs(width_off[side2]))]\n",
    "\n",
    "        # Store FWHM (from spline)\n",
    "        pos_fwhm.append((p1-p2)*mm)\n",
    "        # Store Peak Values of propagating and colliding AP (exp values, not from spline)\n",
    "        prop_peaks.append([U_max[0]*mV, U_max[-1]*mV])\n",
    "        coll_peaks.append(max(U_max)*mV)\n",
    "\n",
    "    pos_fwhm = array(pos_fwhm/mm)*mm\n",
    "    prop_peaks= array(prop_peaks/mV)*mV\n",
    "    coll_peaks= array(coll_peaks/mV)*mV\n",
    "\n",
    "    line_patch1 = mpatches.mlines.Line2D([None], [None], color='black', ls=\"\", marker=\"1\", label='C1')\n",
    "    line_patch2 = mpatches.mlines.Line2D([None], [None], color='black', ls=\"\", marker=\"+\", label='C2')\n",
    "    line_patch3 = mpatches.mlines.Line2D([None], [None], color='black', ls=\"\", marker=\"2\", label='C3')\n",
    "    axs[1].legend(handles=[line_patch1, line_patch2, line_patch3])\n",
    "\n",
    "    axs[1].set_ylabel(\"peak $V_e$ (mV)\")\n",
    "    axs[1].set_xlabel(\"position (mm)\")\n",
    "    axs[1].set_xlim(-10,10)\n",
    "    \n",
    "    axs[0].spines.right.set_visible(True)\n",
    "    axs[0].spines.top.set_visible(True)\n",
    "\n",
    "    plt.tight_layout(w_pad=0)\n",
    "    for ax, l in zip(axs, ['C', 'D']):\n",
    "        X = ax.get_position().x0\n",
    "        Y = 0.87#ax.get_position().y1\n",
    "        #print(X, Y)\n",
    "        ax.annotate(l, fontsize=8,family = 'sans-serif', weight = 'bold',\n",
    "                    xycoords=\"subfigure fraction\", \n",
    "                    xy=(X-0.06, Y))\n",
    "        \n",
    "    l_star = 1.84\n",
    "    axs[1].axvline(l_star, ls='--', color='gray')\n",
    "    axs[1].axvline(-l_star, ls='--', color='gray')\n",
    "    axs[1].set_xticks([-10, -5, -l_star, 0, l_star, 5, 10],\n",
    "                      ['$\\\\mathdefault{−10}$',\n",
    "                       '$\\\\mathdefault{−5}$',\n",
    "                       '$-\\\\lambda^{\\\\!\\\\bigstar}$',\n",
    "                       '$\\\\mathdefault{0}$',\n",
    "                       '$\\\\lambda^{\\\\!\\\\bigstar}$',\n",
    "                       '$\\\\mathdefault{5}$',\n",
    "                       '$\\\\mathdefault{10}$',\n",
    "                      ])\n",
    "    \n",
    "    if save_plots:\n",
    "        fig.savefig(\"Fig2-CD.svg\")\n",
    "        fig.savefig(\"Fig2-CD.pdf\")"
   ]
  },
  {
   "cell_type": "markdown",
   "id": "0a768098",
   "metadata": {},
   "source": [
    "# End"
   ]
  },
  {
   "cell_type": "code",
   "execution_count": null,
   "id": "b3264f8f",
   "metadata": {
    "ExecuteTime": {
     "end_time": "2022-05-08T11:10:15.315953Z",
     "start_time": "2022-05-08T11:10:15.309118Z"
    }
   },
   "outputs": [],
   "source": [
    "Tasaki_kws"
   ]
  },
  {
   "cell_type": "code",
   "execution_count": null,
   "id": "d3e7444a",
   "metadata": {
    "ExecuteTime": {
     "end_time": "2022-05-07T19:04:02.697567Z",
     "start_time": "2022-05-07T19:04:02.685223Z"
    }
   },
   "outputs": [],
   "source": [
    "Tasaki450_kws"
   ]
  },
  {
   "cell_type": "code",
   "execution_count": null,
   "id": "86767cbe",
   "metadata": {
    "ExecuteTime": {
     "end_time": "2022-05-07T19:04:04.411441Z",
     "start_time": "2022-05-07T19:04:04.404788Z"
    }
   },
   "outputs": [],
   "source": [
    "Repol_kws"
   ]
  },
  {
   "cell_type": "code",
   "execution_count": null,
   "id": "52bfca1e",
   "metadata": {
    "ExecuteTime": {
     "end_time": "2022-05-07T19:19:45.653795Z",
     "start_time": "2022-05-07T19:19:45.640911Z"
    }
   },
   "outputs": [],
   "source": [
    "HH_kws"
   ]
  }
 ],
 "metadata": {
  "hide_input": false,
  "kernelspec": {
   "display_name": "Python 3 (ipykernel)",
   "language": "python",
   "name": "python3"
  },
  "language_info": {
   "codemirror_mode": {
    "name": "ipython",
    "version": 3
   },
   "file_extension": ".py",
   "mimetype": "text/x-python",
   "name": "python",
   "nbconvert_exporter": "python",
   "pygments_lexer": "ipython3",
   "version": "3.9.16"
  },
  "toc": {
   "base_numbering": 1,
   "nav_menu": {},
   "number_sections": true,
   "sideBar": true,
   "skip_h1_title": false,
   "title_cell": "Table of Contents",
   "title_sidebar": "Contents",
   "toc_cell": false,
   "toc_position": {
    "height": "calc(100% - 180px)",
    "left": "10px",
    "top": "150px",
    "width": "370px"
   },
   "toc_section_display": true,
   "toc_window_display": true
  },
  "varInspector": {
   "cols": {
    "lenName": 16,
    "lenType": 16,
    "lenVar": 40
   },
   "kernels_config": {
    "python": {
     "delete_cmd_postfix": "",
     "delete_cmd_prefix": "del ",
     "library": "var_list.py",
     "varRefreshCmd": "print(var_dic_list())"
    },
    "r": {
     "delete_cmd_postfix": ") ",
     "delete_cmd_prefix": "rm(",
     "library": "var_list.r",
     "varRefreshCmd": "cat(var_dic_list()) "
    }
   },
   "types_to_exclude": [
    "module",
    "function",
    "builtin_function_or_method",
    "instance",
    "_Feature"
   ],
   "window_display": false
  }
 },
 "nbformat": 4,
 "nbformat_minor": 5
}
